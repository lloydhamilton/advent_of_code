{
 "cells": [
  {
   "cell_type": "code",
   "execution_count": 50,
   "metadata": {},
   "outputs": [],
   "source": [
    "import cv2\n",
    "import pandas as pd\n",
    "import numpy as np\n",
    "\n",
    "def oct_flash(original_array:np.array, input_loc = []) -> tuple:\n",
    "\n",
    "    if input_loc:\n",
    "        coord = input_loc\n",
    "    else:\n",
    "        # Find 10's\n",
    "        coord = np.where(original_array == 10)\n",
    "\n",
    "    flash_count = len(coord[0])\n",
    "    # set 10's to 0\n",
    "    original_array = np.where(original_array == 10, 0, original_array)\n",
    "    cascade_flashed = (np.array([],dtype='int32'),np.array([],dtype='int32'))\n",
    "\n",
    "    for y,x in zip(coord[0], coord[1]):\n",
    "\n",
    "        # Find roi and increment neighbours by 1 if not equal to 0\n",
    "        roi = original_array[y-1:y+2, x-1:x+2]\n",
    "        roi_plus1 = np.where(roi != 0, roi + 1, roi)\n",
    "        original_array[y-1:y+2, x-1:x+2] = roi_plus1\n",
    "\n",
    "        # Check for 10's at each flash stage if it caused any cascading effect\n",
    "        check_10 = np.where(original_array == 10)\n",
    "        # Set found 10's to 0\n",
    "        original_array = np.where(original_array == 10, 0, original_array)\n",
    "        # Store loc in tuple\n",
    "        cascade_flashed = (np.append(cascade_flashed[0],check_10[0]),np.append(cascade_flashed[1],check_10[1]))\n",
    "\n",
    "    return cascade_flashed, flash_count, original_array\n",
    "\n",
    "def count_flash(data :pd.DataFrame, steps = 100) -> int:\n",
    "\n",
    "    # Data prep.\n",
    "    numbers = [str(no[0]) for no in data.values.tolist()]\n",
    "    original_array = []\n",
    "    sync_flash = []\n",
    "    for idx in range(len(numbers)):\n",
    "        original_array.append([int(i) for i in numbers[idx]])\n",
    "    original_array = np.array(original_array)\n",
    "    original_array = cv2.copyMakeBorder(original_array, 1,1,1,1,cv2.BORDER_CONSTANT, value=[11])\n",
    "\n",
    "    flash_count = 0\n",
    "    for step in range(steps):\n",
    "        original_array = np.array(original_array) + 1\n",
    "        coord = np.where(original_array == 10)\n",
    "        while coord[0].size > 0:\n",
    "            coord, count, original_array = oct_flash(original_array, coord)\n",
    "            flash_count += count\n",
    "\n",
    "        if np.all(original_array[1:-1,1:-1] == 0):\n",
    "            sync_flash.append([step + 1])\n",
    "\n",
    "    # Remove padding\n",
    "    original_array = original_array[1:-1,1:-1]\n",
    "    return flash_count, original_array, sync_flash"
   ]
  },
  {
   "cell_type": "code",
   "execution_count": 55,
   "metadata": {},
   "outputs": [
    {
     "data": {
      "text/plain": [
       "[251]"
      ]
     },
     "execution_count": 55,
     "metadata": {},
     "output_type": "execute_result"
    }
   ],
   "source": [
    "data = pd.read_csv('input_data.csv', header=None)\n",
    "fls, ary, sync = count_flash(data, steps = 1000)\n",
    "sync[0]"
   ]
  },
  {
   "cell_type": "code",
   "execution_count": null,
   "metadata": {},
   "outputs": [],
   "source": []
  }
 ],
 "metadata": {
  "interpreter": {
   "hash": "53b9ae5b2e13984c60f33ad01525842f2ba2adec37730199c11a79beaad5b972"
  },
  "kernelspec": {
   "display_name": "Python 3.9.7 64-bit ('advent-of-code-TnhYLct3-py3.9': poetry)",
   "language": "python",
   "name": "python3"
  },
  "language_info": {
   "codemirror_mode": {
    "name": "ipython",
    "version": 3
   },
   "file_extension": ".py",
   "mimetype": "text/x-python",
   "name": "python",
   "nbconvert_exporter": "python",
   "pygments_lexer": "ipython3",
   "version": "3.9.7"
  },
  "orig_nbformat": 4
 },
 "nbformat": 4,
 "nbformat_minor": 2
}
