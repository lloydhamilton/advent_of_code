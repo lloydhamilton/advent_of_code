{
 "cells": [
  {
   "cell_type": "code",
   "execution_count": 132,
   "metadata": {},
   "outputs": [
    {
     "data": {
      "text/plain": [
       "array([[11111],\n",
       "       [19991],\n",
       "       [19191],\n",
       "       [19991],\n",
       "       [11111]])"
      ]
     },
     "execution_count": 132,
     "metadata": {},
     "output_type": "execute_result"
    }
   ],
   "source": [
    "import pandas as pd\n",
    "import numpy as np\n",
    "data = pd.read_csv('test_data.csv', header=None)\n",
    "array = data.values\n",
    "array"
   ]
  },
  {
   "cell_type": "code",
   "execution_count": 10,
   "metadata": {},
   "outputs": [],
   "source": [
    "\n",
    "numbers = [str(no[0]) for no in data.values.tolist()]"
   ]
  },
  {
   "cell_type": "code",
   "execution_count": 76,
   "metadata": {},
   "outputs": [
    {
     "data": {
      "text/plain": [
       "array([[12, 12, 12, 12, 12, 12, 12],\n",
       "       [12,  2,  2,  2,  2,  2, 12],\n",
       "       [12,  2, 10, 10, 10,  2, 12],\n",
       "       [12,  2, 10,  2, 10,  2, 12],\n",
       "       [12,  2, 10, 10, 10,  2, 12],\n",
       "       [12,  2,  2,  2,  2,  2, 12],\n",
       "       [12, 12, 12, 12, 12, 12, 12]], dtype=int32)"
      ]
     },
     "execution_count": 76,
     "metadata": {},
     "output_type": "execute_result"
    }
   ],
   "source": [
    "import cv2\n",
    "import pandas as pd\n",
    "import numpy as np\n",
    "\n",
    "data = pd.read_csv('test_data.csv', header=None)\n",
    "numbers = [str(no[0]) for no in data.values.tolist()]\n",
    "original_array = []\n",
    "for idx in range(len(numbers)):\n",
    "    original_array.append([int(i) for i in numbers[idx]])\n",
    "original_array = np.array(original_array)\n",
    "original_array = cv2.copyMakeBorder(original_array, 1,1,1,1,cv2.BORDER_CONSTANT, value=[11])\n",
    "original_array = np.array(original_array) + 1\n",
    "original_array"
   ]
  },
  {
   "cell_type": "code",
   "execution_count": 68,
   "metadata": {},
   "outputs": [
    {
     "name": "stdout",
     "output_type": "stream",
     "text": [
      "[[12 12 12 12 12 12 12]\n",
      " [12  2  2  2  2  2 12]\n",
      " [12  2  0  0  0  2 12]\n",
      " [12  2  0  2  0  2 12]\n",
      " [12  2  0  0  0  2 12]\n",
      " [12  2  2  2  2  2 12]\n",
      " [12 12 12 12 12 12 12]]\n"
     ]
    }
   ],
   "source": [
    "nploc = np.where(original_array == 10)\n",
    "# set 10's to 0\n",
    "original_array = np.where(original_array == 10, 0, original_array)\n",
    "nploc\n",
    "print(original_array)"
   ]
  },
  {
   "cell_type": "code",
   "execution_count": 47,
   "metadata": {},
   "outputs": [
    {
     "name": "stdout",
     "output_type": "stream",
     "text": [
      "(array([3]), array([3]))\n"
     ]
    }
   ],
   "source": [
    "# Get roi where val = 10, add 1 to neighbouring vals\n",
    "flashed = (np.array([],dtype='int32'),np.array([],dtype='int32'))\n",
    "for y,x in zip(nploc[0], nploc[1]):\n",
    "    roi = original_array[y-1:y+2, x-1:x+2]\n",
    "    roi_plus1 = np.where(roi != 0, roi + 1, roi)\n",
    "    original_array[y-1:y+2, x-1:x+2] = roi_plus1\n",
    "\n",
    "    # Check for 10's at each flash stage if it caused any cascading effect\n",
    "    check_10 = np.where(original_array == 10)\n",
    "    # Set found 10's to 0\n",
    "    original_array = np.where(original_array == 10, 0, original_array)\n",
    "    # Store loc in tuple\n",
    "    flashed = (np.append(flashed[0],check_10[0]),np.append(flashed[1],check_10[1]))\n",
    "\n",
    "print(flashed)\n",
    "nploc = np.where(original_array == 10)\n",
    "\n",
    "#every loop set 10's to 0 and keep record"
   ]
  },
  {
   "cell_type": "code",
   "execution_count": 47,
   "metadata": {},
   "outputs": [],
   "source": [
    "def oct_flash(original_array:np.array, input_loc = []) -> tuple:\n",
    "\n",
    "    if input_loc:\n",
    "        coord = input_loc\n",
    "    else:\n",
    "        # Find 10's\n",
    "        coord = np.where(original_array == 10)\n",
    "\n",
    "    flash_count = len(coord[0])\n",
    "    # set 10's to 0\n",
    "    original_array = np.where(original_array == 10, 0, original_array)\n",
    "    cascade_flashed = (np.array([],dtype='int32'),np.array([],dtype='int32'))\n",
    "\n",
    "    for y,x in zip(coord[0], coord[1]):\n",
    "\n",
    "        # Find roi and increment neighbours by 1 if not equal to 0\n",
    "        roi = original_array[y-1:y+2, x-1:x+2]\n",
    "        roi_plus1 = np.where(roi != 0, roi + 1, roi)\n",
    "        original_array[y-1:y+2, x-1:x+2] = roi_plus1\n",
    "\n",
    "        # Check for 10's at each flash stage if it caused any cascading effect\n",
    "        check_10 = np.where(original_array == 10)\n",
    "        # Set found 10's to 0\n",
    "        original_array = np.where(original_array == 10, 0, original_array)\n",
    "        # Store loc in tuple\n",
    "        cascade_flashed = (np.append(cascade_flashed[0],check_10[0]),np.append(cascade_flashed[1],check_10[1]))\n",
    "\n",
    "    return cascade_flashed, flash_count, original_array"
   ]
  },
  {
   "cell_type": "code",
   "execution_count": 48,
   "metadata": {},
   "outputs": [],
   "source": [
    "import cv2\n",
    "import pandas as pd\n",
    "import numpy as np\n",
    "\n",
    "data = pd.read_csv('test_data.csv', header=None)\n",
    "numbers = [str(no[0]) for no in data.values.tolist()]\n",
    "original_array = []\n",
    "for idx in range(len(numbers)):\n",
    "    original_array.append([int(i) for i in numbers[idx]])\n",
    "original_array = np.array(original_array)\n",
    "original_array = cv2.copyMakeBorder(original_array, 1,1,1,1,cv2.BORDER_CONSTANT, value=[11])\n",
    "\n",
    "flash_count = []\n",
    "original_array = np.array(original_array) + 1\n",
    "# coord = np.where(original_array == 10)\n",
    "# while coord[0].size > 0:\n",
    "#     coord, original_array = oct_flash(original_array, coord)\n"
   ]
  },
  {
   "cell_type": "code",
   "execution_count": 53,
   "metadata": {},
   "outputs": [
    {
     "data": {
      "text/plain": [
       "8"
      ]
     },
     "execution_count": 53,
     "metadata": {},
     "output_type": "execute_result"
    }
   ],
   "source": [
    "coord = np.where(original_array == 10)\n",
    "len(coord[0])"
   ]
  },
  {
   "cell_type": "code",
   "execution_count": 50,
   "metadata": {},
   "outputs": [
    {
     "data": {
      "text/plain": [
       "array([[12, 12, 12, 12, 12, 12, 12],\n",
       "       [12,  2,  2,  2,  2,  2, 12],\n",
       "       [12,  2, 10, 10, 10,  2, 12],\n",
       "       [12,  2, 10,  2, 10,  2, 12],\n",
       "       [12,  2, 10, 10, 10,  2, 12],\n",
       "       [12,  2,  2,  2,  2,  2, 12],\n",
       "       [12, 12, 12, 12, 12, 12, 12]], dtype=int32)"
      ]
     },
     "execution_count": 50,
     "metadata": {},
     "output_type": "execute_result"
    }
   ],
   "source": [
    "original_array"
   ]
  },
  {
   "cell_type": "code",
   "execution_count": 46,
   "metadata": {},
   "outputs": [
    {
     "data": {
      "text/plain": [
       "array([[21, 22, 23, 23, 23, 22, 21],\n",
       "       [22,  3,  3,  3,  3,  3, 22],\n",
       "       [23,  3,  3,  3,  3,  3, 23],\n",
       "       [23,  3,  3,  3,  3,  3, 23],\n",
       "       [23,  3,  3,  3,  3,  3, 23],\n",
       "       [22,  3,  3,  3,  3,  3, 22],\n",
       "       [21, 22, 23, 23, 23, 22, 21]], dtype=int32)"
      ]
     },
     "execution_count": 46,
     "metadata": {},
     "output_type": "execute_result"
    }
   ],
   "source": [
    "original_array = np.array(original_array) + 1\n",
    "coord = np.where(original_array == 10)\n",
    "while coord[0].size > 0:\n",
    "    coord, original_array = oct_flash(original_array, coord)\n",
    "\n",
    "original_array"
   ]
  },
  {
   "cell_type": "code",
   "execution_count": null,
   "metadata": {},
   "outputs": [],
   "source": []
  },
  {
   "cell_type": "code",
   "execution_count": null,
   "metadata": {},
   "outputs": [],
   "source": []
  }
 ],
 "metadata": {
  "interpreter": {
   "hash": "53b9ae5b2e13984c60f33ad01525842f2ba2adec37730199c11a79beaad5b972"
  },
  "kernelspec": {
   "display_name": "Python 3.9.7 64-bit ('advent-of-code-TnhYLct3-py3.9': poetry)",
   "language": "python",
   "name": "python3"
  },
  "language_info": {
   "codemirror_mode": {
    "name": "ipython",
    "version": 3
   },
   "file_extension": ".py",
   "mimetype": "text/x-python",
   "name": "python",
   "nbconvert_exporter": "python",
   "pygments_lexer": "ipython3",
   "version": "3.9.7"
  },
  "orig_nbformat": 4
 },
 "nbformat": 4,
 "nbformat_minor": 2
}
