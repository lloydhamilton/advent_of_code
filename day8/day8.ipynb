{
 "cells": [
  {
   "cell_type": "markdown",
   "metadata": {},
   "source": [
    "Part 1 - Find 1,4,7,8 by number of wire inputs"
   ]
  },
  {
   "cell_type": "code",
   "execution_count": 2,
   "metadata": {},
   "outputs": [
    {
     "data": {
      "text/plain": [
       "26"
      ]
     },
     "execution_count": 2,
     "metadata": {},
     "output_type": "execute_result"
    }
   ],
   "source": [
    "import pandas as pd\n",
    "\n",
    "data = pd.read_csv('test_data.csv', sep=' | ', engine='python', header=None)\n",
    "\n",
    "def find_1478(data):\n",
    "    output_values = data.iloc[:,-4:].copy()\n",
    "    for x in output_values.index.values:\n",
    "        output_values.iloc[x] = [len(out) for out in output_values.iloc[x].values]\n",
    "    output_values = output_values.astype('int32')\n",
    "    logic_df = (output_values == 4) | (output_values == 2) | (output_values == 3) | (output_values == 7)\n",
    "    return logic_df.values.sum()\n",
    "\n",
    "find_1478(data)"
   ]
  },
  {
   "cell_type": "code",
   "execution_count": 3,
   "metadata": {},
   "outputs": [
    {
     "data": {
      "text/plain": [
       "512"
      ]
     },
     "execution_count": 3,
     "metadata": {},
     "output_type": "execute_result"
    }
   ],
   "source": [
    "data = pd.read_csv('input_data.csv', sep=' | ', engine='python', header=None)\n",
    "find_1478(data)"
   ]
  },
  {
   "cell_type": "markdown",
   "metadata": {},
   "source": [
    "Part 2\n",
    "\n",
    "A little more tricky...each number will have a unique total sum when evaluated. The first example gave us a key to associate the unique total to each number. `determine_cypher` creates a dict object containing unique total values of the number of time each letter appears. For example if 'A' appears 8 times, it is assigned a value of 8. If 'b' appears 7 times it is assigned a values of 7. If the code `ab` appears, it has a unique total value of 17 which is identified as the number 1."
   ]
  },
  {
   "cell_type": "code",
   "execution_count": 16,
   "metadata": {},
   "outputs": [
    {
     "name": "stdout",
     "output_type": "stream",
     "text": [
      "{49: 8, 37: 5, 34: 2, 39: 3, 25: 7, 45: 9, 41: 6, 30: 4, 42: 0, 17: 1}\n"
     ]
    },
    {
     "data": {
      "text/plain": [
       "1091165"
      ]
     },
     "execution_count": 16,
     "metadata": {},
     "output_type": "execute_result"
    }
   ],
   "source": [
    "import pandas as pd\n",
    "import numpy as np\n",
    "\n",
    "data = pd.read_csv('input_data.csv', sep=' | ', engine='python', header=None)\n",
    "\n",
    "def determine_cypher():\n",
    "    data = pd.read_csv('test_data.csv', sep=' | ', engine='python', header=None)\n",
    "    codes = data.iloc[:,:10]\n",
    "    # Get data input\n",
    "    row = (\n",
    "        codes\n",
    "        .iloc[0]\n",
    "        .values\n",
    "        .tolist()\n",
    "    )\n",
    "    # Create a df of data with split vals\n",
    "    splitdf = (\n",
    "        codes\n",
    "        .iloc[0]\n",
    "        .str.zfill(7)\n",
    "        .str.split('',expand=True)\n",
    "        .iloc[:,1:8]\n",
    "        .copy()\n",
    "    )\n",
    "\n",
    "    whole_str = ''.join(row)\n",
    "    letters = ['a','b','c','d','e','f','g']\n",
    "    counts = create_counts(whole_str, letters)\n",
    "    for char in letters:\n",
    "        splitdf[splitdf == char] = counts[char]\n",
    "\n",
    "    row = pd.DataFrame(row)\n",
    "    total_vals = splitdf.astype('int32').sum(axis=1)\n",
    "    encoded = [8,5,2,3,7,9,6,4,0,1]\n",
    "    row\n",
    "\n",
    "    cypher = dict().fromkeys([i for i in total_vals],0)\n",
    "    for idx, key in zip(range(len(total_vals)),cypher.keys()):\n",
    "        cypher[key] = encoded[idx]\n",
    "    return cypher\n",
    "\n",
    "def create_counts(whole_str:str, letters:list):\n",
    "    dictionary = dict().fromkeys([i for i in letters], 0)\n",
    "    for char in letters:\n",
    "        dictionary[char] = whole_str.count(char)\n",
    "    return dictionary\n",
    "\n",
    "def decode_wires(data):\n",
    "\n",
    "    decoded_list = []\n",
    "    cypher = determine_cypher()\n",
    "    print(cypher)\n",
    "\n",
    "    for row_idx in range(len(data)):\n",
    "\n",
    "        code = data.iloc[row_idx,:10]\n",
    "        to_decode = data.iloc[row_idx,-4:]\n",
    "        # Unpack and left fill with zeros into df\n",
    "        splitdf = (\n",
    "            code\n",
    "            .str.zfill(7)\n",
    "            .str.split('',expand=True)\n",
    "            .iloc[:,1:8]\n",
    "            .copy()\n",
    "        )\n",
    "        # Cypher creation: counts contains a dict where {letter: count(letter)} in code\n",
    "        letters = ['a','b','c','d','e','f','g']\n",
    "        whole_str = ''.join(code.values)\n",
    "        counts = create_counts(whole_str, letters)\n",
    "\n",
    "        # Replace the splitdf with letter count before getting sum\n",
    "        for char in letters:\n",
    "            splitdf[splitdf == char] = counts[char]\n",
    "\n",
    "        # Get sum of each code to get unique sum value\n",
    "        total_vals = splitdf.astype('int32').sum(axis=1)\n",
    "\n",
    "        # Cypher contains dict with unique total sums to each decoded number\n",
    "        decoded = [cypher[val] for val in total_vals]\n",
    "        sorted_strings = [''.join(sorted(x)) for x in code.values]\n",
    "        final_cypher = dict().fromkeys([i for i in sorted_strings], 0)\n",
    "        for key, val in zip(final_cypher.keys(), decoded):\n",
    "            final_cypher[key] = val\n",
    "        # print(final_cypher)\n",
    "\n",
    "        # Arrange letters then use as key\n",
    "        to_decode = [''.join(sorted(x)) for x in to_decode.values]\n",
    "        decoded_numbers = [final_cypher[key] for key in to_decode]\n",
    "        string_ints = [str(int) for int in decoded_numbers]\n",
    "        decoded_list.append(int(''.join(string_ints)))\n",
    "\n",
    "    return decoded_list\n",
    "\n",
    "sum(decode_wires(data))"
   ]
  },
  {
   "cell_type": "code",
   "execution_count": null,
   "metadata": {},
   "outputs": [],
   "source": []
  }
 ],
 "metadata": {
  "interpreter": {
   "hash": "919d5182d6e251f85cfea4f0d38d6cd16b39376b792c9ccd6a31cc8ff7d08ddb"
  },
  "kernelspec": {
   "display_name": "Python 3.9.7 64-bit ('sagemaker_env-KJbbt5wZ': pipenv)",
   "language": "python",
   "name": "python3"
  },
  "language_info": {
   "codemirror_mode": {
    "name": "ipython",
    "version": 3
   },
   "file_extension": ".py",
   "mimetype": "text/x-python",
   "name": "python",
   "nbconvert_exporter": "python",
   "pygments_lexer": "ipython3",
   "version": "3.9.7"
  },
  "orig_nbformat": 4
 },
 "nbformat": 4,
 "nbformat_minor": 2
}
