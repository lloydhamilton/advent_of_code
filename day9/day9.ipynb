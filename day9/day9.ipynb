{
 "cells": [
  {
   "cell_type": "markdown",
   "metadata": {},
   "source": [
    "Day 09 - Part 1: Finding peaks"
   ]
  },
  {
   "cell_type": "code",
   "execution_count": 100,
   "metadata": {},
   "outputs": [
    {
     "name": "stdout",
     "output_type": "stream",
     "text": [
      "[findpeaks] >Finding peaks in 2d-array using mask method..\n",
      "[findpeaks] >Scaling image between [0-255] and to uint8\n",
      "[findpeaks] >Conversion to gray image.\n",
      "[findpeaks] >WARNING: Conversion to gray not possible.\n",
      "[findpeaks] >Denoising with [fastnl], window: [3].\n",
      "[findpeaks] >Detect peaks using the mask method with limit=0.\n",
      "[findpeaks] >Fin.\n"
     ]
    },
    {
     "data": {
      "text/plain": [
       "15"
      ]
     },
     "execution_count": 100,
     "metadata": {},
     "output_type": "execute_result"
    }
   ],
   "source": [
    "import pandas as pd\n",
    "data = pd.read_csv('test_data.csv', header=None)\n",
    "\n",
    "def find_sum_peaks(data:pd.DataFrame):\n",
    "    from findpeaks import findpeaks\n",
    "    import numpy as np\n",
    "\n",
    "    numbers = [str(no[0]) for no in data.values.tolist()]\n",
    "    original_array = []\n",
    "    for idx in range(len(numbers)):\n",
    "        original_array.append([int(i) for i in numbers[idx]])\n",
    "\n",
    "    # 100 is added to transpose vals\n",
    "    transposed = np.array(original_array) + 100\n",
    "    for val, rep in zip(range(10), range(9,-1,-1)):\n",
    "        transposed = np.where(transposed == val + 100, rep, transposed)\n",
    "\n",
    "    # Find peaks and cby mask method\n",
    "    fp = findpeaks(method='mask')\n",
    "    peaks = fp.fit(transposed)\n",
    "    values = np.array(original_array)[peaks['Xdetect']] + 1\n",
    "    return sum(values)\n",
    "\n",
    "find_sum_peaks(data)"
   ]
  },
  {
   "cell_type": "code",
   "execution_count": 99,
   "metadata": {},
   "outputs": [
    {
     "name": "stdout",
     "output_type": "stream",
     "text": [
      "[findpeaks] >Finding peaks in 2d-array using mask method..\n",
      "[findpeaks] >Scaling image between [0-255] and to uint8\n",
      "[findpeaks] >Conversion to gray image.\n",
      "[findpeaks] >WARNING: Conversion to gray not possible.\n",
      "[findpeaks] >Denoising with [fastnl], window: [3].\n",
      "[findpeaks] >Detect peaks using the mask method with limit=0.\n",
      "[findpeaks] >Fin.\n"
     ]
    },
    {
     "data": {
      "text/plain": [
       "468"
      ]
     },
     "execution_count": 99,
     "metadata": {},
     "output_type": "execute_result"
    }
   ],
   "source": [
    "data = pd.read_csv('input_data.csv', header=None)\n",
    "find_sum_peaks(data)"
   ]
  },
  {
   "cell_type": "code",
   "execution_count": null,
   "metadata": {},
   "outputs": [],
   "source": []
  },
  {
   "cell_type": "markdown",
   "metadata": {},
   "source": [
    "Part 2: Find largest basin"
   ]
  },
  {
   "cell_type": "code",
   "execution_count": 3,
   "metadata": {},
   "outputs": [
    {
     "ename": "ValueError",
     "evalue": "not enough values to unpack (expected 3, got 2)",
     "output_type": "error",
     "traceback": [
      "\u001b[0;31m---------------------------------------------------------------------------\u001b[0m",
      "\u001b[0;31mValueError\u001b[0m                                Traceback (most recent call last)",
      "\u001b[0;32m/var/folders/kj/2sm6n_8n4qz6nc6n10vljkbr0000gn/T/ipykernel_63662/2136508524.py\u001b[0m in \u001b[0;36m<module>\u001b[0;34m\u001b[0m\n\u001b[1;32m     30\u001b[0m \u001b[0;34m\u001b[0m\u001b[0m\n\u001b[1;32m     31\u001b[0m \u001b[0mdist_8u\u001b[0m \u001b[0;34m=\u001b[0m \u001b[0mdist\u001b[0m\u001b[0;34m.\u001b[0m\u001b[0mastype\u001b[0m\u001b[0;34m(\u001b[0m\u001b[0;34m'uint8'\u001b[0m\u001b[0;34m)\u001b[0m\u001b[0;34m\u001b[0m\u001b[0;34m\u001b[0m\u001b[0m\n\u001b[0;32m---> 32\u001b[0;31m \u001b[0m_\u001b[0m\u001b[0;34m,\u001b[0m \u001b[0mcontours\u001b[0m\u001b[0;34m,\u001b[0m \u001b[0m_\u001b[0m \u001b[0;34m=\u001b[0m \u001b[0mcv\u001b[0m\u001b[0;34m.\u001b[0m\u001b[0mfindContours\u001b[0m\u001b[0;34m(\u001b[0m\u001b[0mdist_8u\u001b[0m\u001b[0;34m,\u001b[0m \u001b[0mcv\u001b[0m\u001b[0;34m.\u001b[0m\u001b[0mRETR_EXTERNAL\u001b[0m\u001b[0;34m,\u001b[0m \u001b[0mcv\u001b[0m\u001b[0;34m.\u001b[0m\u001b[0mCHAIN_APPROX_SIMPLE\u001b[0m\u001b[0;34m)\u001b[0m\u001b[0;34m\u001b[0m\u001b[0;34m\u001b[0m\u001b[0m\n\u001b[0m\u001b[1;32m     33\u001b[0m \u001b[0mmarkers\u001b[0m \u001b[0;34m=\u001b[0m \u001b[0mnp\u001b[0m\u001b[0;34m.\u001b[0m\u001b[0mzeros\u001b[0m\u001b[0;34m(\u001b[0m\u001b[0mdist\u001b[0m\u001b[0;34m.\u001b[0m\u001b[0mshape\u001b[0m\u001b[0;34m,\u001b[0m \u001b[0mdtype\u001b[0m\u001b[0;34m=\u001b[0m\u001b[0mnp\u001b[0m\u001b[0;34m.\u001b[0m\u001b[0mint32\u001b[0m\u001b[0;34m)\u001b[0m\u001b[0;34m\u001b[0m\u001b[0;34m\u001b[0m\u001b[0m\n\u001b[1;32m     34\u001b[0m \u001b[0;32mfor\u001b[0m \u001b[0mi\u001b[0m \u001b[0;32min\u001b[0m \u001b[0mrange\u001b[0m\u001b[0;34m(\u001b[0m\u001b[0mlen\u001b[0m\u001b[0;34m(\u001b[0m\u001b[0mcontours\u001b[0m\u001b[0;34m)\u001b[0m\u001b[0;34m)\u001b[0m\u001b[0;34m:\u001b[0m\u001b[0;34m\u001b[0m\u001b[0;34m\u001b[0m\u001b[0m\n",
      "\u001b[0;31mValueError\u001b[0m: not enough values to unpack (expected 3, got 2)"
     ]
    }
   ],
   "source": [
    "import pandas as pd\n",
    "import numpy as np\n",
    "import cv2 as cv\n",
    "import matplotlib.pyplot as plt\n",
    "\n",
    "data = pd.read_csv('input_data.csv', header=None)\n",
    "numbers = [str(no[0]) for no in data.values.tolist()]\n",
    "original_array = []\n",
    "for idx in range(len(numbers)):\n",
    "    original_array.append([int(i) for i in numbers[idx]])\n",
    "original_array = np.array(original_array)\n",
    "\n",
    "# Turn image to binary black and while. As 9's are white and non-9's are 0\n",
    "img = np.where(original_array != 9,255, original_array)\n",
    "img = np.where(img == 9, 0, img)\n",
    "img = img.astype('uint8')\n",
    "\n",
    "# Add padding to image\n",
    "img = cv.copyMakeBorder(img, 1, 1, 1, 1, cv.BORDER_CONSTANT, None, 0)\n",
    "\n",
    "# Create 3d matrix for image\n",
    "rgb_image = np.uint8(np.empty(shape=(img.shape[0], img.shape[1], 3)))\n",
    "for idx in range(3):\n",
    "    rgb_image[:, :, idx] = img\n",
    "\n",
    "dist_transform = cv.distanceTransform(img, cv.DIST_L2, 0)\n",
    "norm = cv.normalize(dist_transform, dist_transform, 0, 1.0, cv.NORM_MINMAX);\n",
    "ret, dist = cv.threshold(norm, 0.1, 1, cv.THRESH_BINARY)\n",
    "\n",
    "\n",
    "dist_8u = dist.astype('uint8')\n",
    "_, contours, _ = cv.findContours(dist_8u, cv.RETR_EXTERNAL, cv.CHAIN_APPROX_SIMPLE)\n",
    "markers = np.zeros(dist.shape, dtype=np.int32)\n",
    "for i in range(len(contours)):\n",
    "    cv.drawContours(markers, contours, i, (i+1), -1)\n",
    "\n",
    "\n",
    "\n",
    "\n",
    "\n",
    "\n",
    "\n",
    "\n",
    "\n",
    "# # Distance transform to find sure foreground\n",
    "# dist_transform = cv.distanceTransform(img, cv.DIST_L2, 0)\n",
    "# ret, sure_fg = cv.threshold(dist_transform, 0, 255, 0)\n",
    "# sure_fg = sure_fg.astype('uint8')\n",
    "# ret, markers = cv.connectedComponents(sure_fg)\n",
    "# markers = markers + 1\n",
    "\n",
    "\n",
    "# final = cv.watershed(rgb_image, markers)\n",
    "# rgb_image[final == -1] = [255, 0, 0]\n",
    "# plt.imshow(rgb_image)\n",
    "# # # Find contours\n",
    "# # contours, hierarchy = cv.findContours(img, cv.RETR_TREE, cv.CHAIN_APPROX_SIMPLE)\n",
    "# # contours"
   ]
  },
  {
   "cell_type": "code",
   "execution_count": null,
   "metadata": {},
   "outputs": [],
   "source": []
  },
  {
   "cell_type": "code",
   "execution_count": 79,
   "metadata": {},
   "outputs": [
    {
     "data": {
      "text/plain": [
       "<matplotlib.image.AxesImage at 0x7fb9b3567580>"
      ]
     },
     "execution_count": 79,
     "metadata": {},
     "output_type": "execute_result"
    },
    {
     "data": {
      "image/png": "[encoded data removed]",
      "text/plain": [
       "<Figure size 432x288 with 1 Axes>"
      ]
     },
     "metadata": {
      "needs_background": "light"
     },
     "output_type": "display_data"
    }
   ],
   "source": [
    "import pandas as pd\n",
    "import numpy as np\n",
    "import cv2 as cv\n",
    "import matplotlib.pyplot as plt\n",
    "\n",
    "data = pd.read_csv('test_data.csv', header=None)\n",
    "numbers = [str(no[0]) for no in data.values.tolist()]\n",
    "original_array = []\n",
    "for idx in range(len(numbers)):\n",
    "    original_array.append([int(i) for i in numbers[idx]])\n",
    "original_array = np.array(original_array)\n",
    "\n",
    "# Turn image to binary black and while. As 9's are white and non-9's are 0\n",
    "img = np.where(original_array != 9,255, original_array)\n",
    "img = np.where(img == 9, 0, img)\n",
    "img = img.astype('uint8')\n",
    "\n",
    "# Add padding to image\n",
    "img = cv.copyMakeBorder(img, 1, 1, 1, 1, cv.BORDER_CONSTANT, None, 0)\n",
    "\n",
    "# Crete distance transformation map to determine which points has largest distance from borders.\n",
    "dist_transform = cv.distanceTransform(img, cv.DIST_L2, 0)\n",
    "\n",
    "df_transform = pd.DataFrame(dist_transform)\n",
    "df_transform['maxi'] = df_transform.max(axis=1)\n",
    "# df.maxi.nlargest(n=2)\n",
    "\n",
    "# fill from 4,3\n",
    "h, w = img.shape[:2]\n",
    "mask = np.zeros((h+2, w+2), np.uint8)\n",
    "filled = cv.floodFill(img, mask, (8,4), 255);\n",
    "# im_floodfill_inv = cv.bitwise_not(img)\n",
    "# im_out = img | im_floodfill_inv\n",
    "filled[0]\n",
    "\n",
    "plt.imshow(dist_transform)\n"
   ]
  },
  {
   "cell_type": "code",
   "execution_count": 82,
   "metadata": {},
   "outputs": [
    {
     "data": {
      "text/plain": [
       "9"
      ]
     },
     "execution_count": 82,
     "metadata": {},
     "output_type": "execute_result"
    }
   ],
   "source": [
    "df = pd.DataFrame(dist_transform)\n",
    "df['maxi'] = df.max(axis=1)\n",
    "# df.maxi.nlargest(n=2)\n",
    "\n",
    "# fill from 4,3\n",
    "h, w = img.shape[:2]\n",
    "mask = np.zeros((h+2, w+2), np.uint8)\n",
    "filled = cv.floodFill(img, mask, (8,4), 255);\n",
    "# im_floodfill_inv = cv.bitwise_not(img)\n",
    "# im_out = img | im_floodfill_inv\n",
    "filled[0]\n",
    "# plt.imshow(im_out)"
   ]
  },
  {
   "cell_type": "code",
   "execution_count": 59,
   "metadata": {},
   "outputs": [
    {
     "data": {
      "text/plain": [
       "38    5.000000\n",
       "37    4.472136\n",
       "63    4.472136\n",
       "64    4.472136\n",
       "69    4.472136\n",
       "70    4.472136\n",
       "22    4.242640\n",
       "39    4.242640\n",
       "49    4.242640\n",
       "7     4.123106\n",
       "Name: maxi, dtype: float32"
      ]
     },
     "execution_count": 59,
     "metadata": {},
     "output_type": "execute_result"
    }
   ],
   "source": [
    "NewImage = np.array(0)\n",
    "df = pd.DataFrame(dist_transform)\n",
    "df['maxi'] = df.max()\n",
    "df.maxi.nlargest(n=10)"
   ]
  },
  {
   "cell_type": "code",
   "execution_count": 138,
   "metadata": {},
   "outputs": [
    {
     "data": {
      "text/plain": [
       "array([[2, 1, 9, 9, 9, 4, 3, 2, 1, 0],\n",
       "       [3, 9, 8, 7, 8, 9, 4, 9, 2, 1],\n",
       "       [9, 8, 5, 6, 7, 8, 9, 8, 9, 2],\n",
       "       [8, 7, 6, 7, 8, 9, 6, 7, 8, 9],\n",
       "       [9, 8, 9, 9, 9, 6, 5, 6, 7, 8]])"
      ]
     },
     "execution_count": 138,
     "metadata": {},
     "output_type": "execute_result"
    }
   ],
   "source": []
  },
  {
   "cell_type": "code",
   "execution_count": 230,
   "metadata": {},
   "outputs": [
    {
     "data": {
      "text/plain": [
       "array([[255, 255, 255, ..., 255, 255, 255],\n",
       "       [255, 255, 255, ..., 255, 255, 255],\n",
       "       [255, 255, 255, ..., 255, 255, 255],\n",
       "       ...,\n",
       "       [255, 255, 255, ..., 255, 255, 255],\n",
       "       [255, 255, 255, ..., 255, 255, 255],\n",
       "       [255, 255, 255, ..., 255, 255, 255]], dtype=uint8)"
      ]
     },
     "execution_count": 230,
     "metadata": {},
     "output_type": "execute_result"
    }
   ],
   "source": [
    "img = cv.imread('Eagle_coins.jpg')\n",
    "gray = cv.cvtColor(img, cv.COLOR_BGR2GRAY)\n",
    "(thresh, blackAndWhiteImage) = cv.threshold(gray, 127, 255, cv.THRESH_BINARY)\n",
    "contours, hierarchy = cv.findContours(blackAndWhiteImage, cv.RETR_TREE, cv.CHAIN_APPROX_SIMPLE)\n",
    "\n",
    "blackAndWhiteImage"
   ]
  },
  {
   "cell_type": "code",
   "execution_count": 145,
   "metadata": {},
   "outputs": [
    {
     "data": {
      "text/plain": [
       "array([[255, 255, 255, ..., 255, 255, 255],\n",
       "       [255, 255, 255, ..., 255, 255, 255],\n",
       "       [255, 255, 255, ..., 255, 255, 255],\n",
       "       ...,\n",
       "       [254, 254, 254, ..., 228, 228, 228],\n",
       "       [253, 253, 253, ..., 225, 225, 225],\n",
       "       [254, 254, 254, ..., 223, 223, 223]], dtype=uint8)"
      ]
     },
     "execution_count": 145,
     "metadata": {},
     "output_type": "execute_result"
    }
   ],
   "source": [
    "gray"
   ]
  },
  {
   "cell_type": "code",
   "execution_count": null,
   "metadata": {},
   "outputs": [],
   "source": []
  }
 ],
 "metadata": {
  "interpreter": {
   "hash": "40d3a090f54c6569ab1632332b64b2c03c39dcf918b08424e98f38b5ae0af88f"
  },
  "kernelspec": {
   "display_name": "Python 3.8.8 64-bit ('base': conda)",
   "language": "python",
   "name": "python3"
  },
  "language_info": {
   "codemirror_mode": {
    "name": "ipython",
    "version": 3
   },
   "file_extension": ".py",
   "mimetype": "text/x-python",
   "name": "python",
   "nbconvert_exporter": "python",
   "pygments_lexer": "ipython3",
   "version": "3.9.7"
  },
  "orig_nbformat": 4
 },
 "nbformat": 4,
 "nbformat_minor": 2
}
