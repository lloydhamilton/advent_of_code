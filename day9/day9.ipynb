{
 "cells": [
  {
   "cell_type": "markdown",
   "metadata": {},
   "source": [
    "Day 09 - Part 1: Finding peaks"
   ]
  },
  {
   "cell_type": "code",
   "execution_count": 100,
   "metadata": {},
   "outputs": [
    {
     "name": "stdout",
     "output_type": "stream",
     "text": [
      "[findpeaks] >Finding peaks in 2d-array using mask method..\n",
      "[findpeaks] >Scaling image between [0-255] and to uint8\n",
      "[findpeaks] >Conversion to gray image.\n",
      "[findpeaks] >WARNING: Conversion to gray not possible.\n",
      "[findpeaks] >Denoising with [fastnl], window: [3].\n",
      "[findpeaks] >Detect peaks using the mask method with limit=0.\n",
      "[findpeaks] >Fin.\n"
     ]
    },
    {
     "data": {
      "text/plain": [
       "15"
      ]
     },
     "execution_count": 100,
     "metadata": {},
     "output_type": "execute_result"
    }
   ],
   "source": [
    "import pandas as pd\n",
    "data = pd.read_csv('test_data.csv', header=None)\n",
    "\n",
    "def find_sum_peaks(data:pd.DataFrame):\n",
    "    from findpeaks import findpeaks\n",
    "    import numpy as np\n",
    "\n",
    "    numbers = [str(no[0]) for no in data.values.tolist()]\n",
    "    original_array = []\n",
    "    for idx in range(len(numbers)):\n",
    "        original_array.append([int(i) for i in numbers[idx]])\n",
    "\n",
    "    # 100 is added to transpose vals\n",
    "    transposed = np.array(original_array) + 100\n",
    "    for val, rep in zip(range(10), range(9,-1,-1)):\n",
    "        transposed = np.where(transposed == val + 100, rep, transposed)\n",
    "\n",
    "    # Find peaks and cby mask method\n",
    "    fp = findpeaks(method='mask')\n",
    "    peaks = fp.fit(transposed)\n",
    "    values = np.array(original_array)[peaks['Xdetect']] + 1\n",
    "    return sum(values)\n",
    "\n",
    "find_sum_peaks(data)"
   ]
  },
  {
   "cell_type": "code",
   "execution_count": 99,
   "metadata": {},
   "outputs": [
    {
     "name": "stdout",
     "output_type": "stream",
     "text": [
      "[findpeaks] >Finding peaks in 2d-array using mask method..\n",
      "[findpeaks] >Scaling image between [0-255] and to uint8\n",
      "[findpeaks] >Conversion to gray image.\n",
      "[findpeaks] >WARNING: Conversion to gray not possible.\n",
      "[findpeaks] >Denoising with [fastnl], window: [3].\n",
      "[findpeaks] >Detect peaks using the mask method with limit=0.\n",
      "[findpeaks] >Fin.\n"
     ]
    },
    {
     "data": {
      "text/plain": [
       "468"
      ]
     },
     "execution_count": 99,
     "metadata": {},
     "output_type": "execute_result"
    }
   ],
   "source": [
    "data = pd.read_csv('input_data.csv', header=None)\n",
    "find_sum_peaks(data)"
   ]
  },
  {
   "cell_type": "markdown",
   "metadata": {},
   "source": [
    "Part 2: Find largest basin"
   ]
  },
  {
   "cell_type": "code",
   "execution_count": 207,
   "metadata": {},
   "outputs": [
    {
     "data": {
      "text/plain": [
       "1280496"
      ]
     },
     "execution_count": 207,
     "metadata": {},
     "output_type": "execute_result"
    }
   ],
   "source": [
    "data = pd.read_csv('input_data.csv', header=None)\n",
    "\n",
    "def find_prod_basin(data):\n",
    "\n",
    "    import pandas as pd\n",
    "    import numpy as np\n",
    "    import cv2 as cv\n",
    "\n",
    "\n",
    "    numbers = [str(no[0]) for no in data.values.tolist()]\n",
    "    original_array = []\n",
    "    for idx in range(len(numbers)):\n",
    "        original_array.append([int(i) for i in numbers[idx]])\n",
    "    original_array = np.array(original_array)\n",
    "\n",
    "    # Turn image to binary black and while. As 9's are white and non-9's are 0\n",
    "    img = np.where(original_array != 9,255, original_array)\n",
    "    img = np.where(img == 9, 0, img)\n",
    "    img = img.astype('uint8')\n",
    "\n",
    "    # Add padding to image\n",
    "    img = cv.copyMakeBorder(img, 2, 2, 2, 2, cv.BORDER_CONSTANT, None, 0)\n",
    "\n",
    "    # Crete distance transformation map to determine which points has largest distance from borders which also means largest in this example\n",
    "    dist_transform = cv.distanceTransform(img, cv.DIST_L2, 0)\n",
    "\n",
    "    # Find index of top 20 values\n",
    "    top_N = 1000\n",
    "    idx = np.argpartition(dist_transform, dist_transform.size - top_N, axis=None)[-top_N:]\n",
    "    results= np.column_stack(np.unravel_index(idx, dist_transform.shape))\n",
    "    tups = [tuple(result) for result in results]\n",
    "\n",
    "    # Find fill size\n",
    "    h, w = img.shape[:2]\n",
    "    mask = np.zeros((h+2, w+2), np.uint8)\n",
    "    flood_fill = [cv.floodFill(img, mask, [tup[1],tup[0]], 255)[0] for tup in tups]\n",
    "\n",
    "    # Find top 3 largest areas and get product\n",
    "    top_areas = np.argpartition(flood_fill, -3)[-3:]\n",
    "    top_areas = np.array([flood_fill[idx] for idx in top_areas])\n",
    "    product = top_areas.prod()\n",
    "    return product\n",
    "\n",
    "find_prod_basin(data)"
   ]
  },
  {
   "cell_type": "code",
   "execution_count": null,
   "metadata": {},
   "outputs": [],
   "source": []
  }
 ],
 "metadata": {
  "interpreter": {
   "hash": "40d3a090f54c6569ab1632332b64b2c03c39dcf918b08424e98f38b5ae0af88f"
  },
  "kernelspec": {
   "display_name": "Python 3.8.8 64-bit ('base': conda)",
   "language": "python",
   "name": "python3"
  },
  "language_info": {
   "codemirror_mode": {
    "name": "ipython",
    "version": 3
   },
   "file_extension": ".py",
   "mimetype": "text/x-python",
   "name": "python",
   "nbconvert_exporter": "python",
   "pygments_lexer": "ipython3",
   "version": "3.9.7"
  },
  "orig_nbformat": 4
 },
 "nbformat": 4,
 "nbformat_minor": 2
}
