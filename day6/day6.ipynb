{
 "cells": [
  {
   "cell_type": "code",
   "execution_count": 6,
   "metadata": {},
   "outputs": [],
   "source": [
    "import pandas as pd\n",
    "\n",
    "data = pd.read_csv('test_data.csv', header=None).to_numpy()"
   ]
  },
  {
   "cell_type": "code",
   "execution_count": 59,
   "metadata": {},
   "outputs": [
    {
     "name": "stdout",
     "output_type": "stream",
     "text": [
      "Initial State: [[3 4 3 1 2]]\n",
      "5934\n"
     ]
    }
   ],
   "source": [
    "import numpy as np\n",
    "import pandas as pd\n",
    "\n",
    "data = pd.read_csv('test_data.csv', header=None).to_numpy()\n",
    "print(f'Initial State: {data}')\n",
    "previous_day = []\n",
    "for x in range(80):\n",
    "    data = data - 1\n",
    "    length = len(data)\n",
    "    # print(f'Day {x+1}: {data}, {len(data)}')\n",
    "    no_zeros = np.count_nonzero(data == 0)\n",
    "    new_fish = np.ones(no_zeros, dtype='int32') + 8\n",
    "    data = np.append(data, new_fish)\n",
    "    data = np.where(data == 0, 7, data)\n",
    "\n",
    "print(length)"
   ]
  },
  {
   "cell_type": "code",
   "execution_count": 54,
   "metadata": {},
   "outputs": [
    {
     "data": {
      "text/plain": [
       "'Total number of fish: 1765974267455'"
      ]
     },
     "execution_count": 54,
     "metadata": {},
     "output_type": "execute_result"
    }
   ],
   "source": [
    "import numpy as np\n",
    "import pandas as pd\n",
    "\n",
    "data = pd.read_csv('input_data.csv', header=None)\n",
    "\n",
    "def count_fishes(data):\n",
    "    df = (\n",
    "        data\n",
    "        .transpose()\n",
    "        .rename(columns={0:'item'})\n",
    "        .astype('int32')\n",
    "    )\n",
    "\n",
    "    inital_counts = (\n",
    "        df\n",
    "        .groupby(['item'])\n",
    "        .size()\n",
    "        .to_dict()\n",
    "    )\n",
    "\n",
    "    counts = dict().fromkeys([i for i in range(9)], 0)\n",
    "\n",
    "    for x in inital_counts.keys():\n",
    "        counts[x] = inital_counts[x]\n",
    "\n",
    "    for day in range(256):\n",
    "        zeros = counts[0]\n",
    "        for x in range(1,9):\n",
    "            counts[x-1] = counts[x]\n",
    "        counts[8] = zeros\n",
    "        counts[6] = counts[6] + zeros\n",
    "\n",
    "    return(f'Total number of fish: {sum(list(counts.values()))}')\n",
    "\n",
    "count_fishes(data)"
   ]
  },
  {
   "cell_type": "code",
   "execution_count": null,
   "metadata": {},
   "outputs": [],
   "source": []
  }
 ],
 "metadata": {
  "interpreter": {
   "hash": "919d5182d6e251f85cfea4f0d38d6cd16b39376b792c9ccd6a31cc8ff7d08ddb"
  },
  "kernelspec": {
   "display_name": "Python 3.9.7 64-bit ('sagemaker_env-KJbbt5wZ': pipenv)",
   "language": "python",
   "name": "python3"
  },
  "language_info": {
   "codemirror_mode": {
    "name": "ipython",
    "version": 3
   },
   "file_extension": ".py",
   "mimetype": "text/x-python",
   "name": "python",
   "nbconvert_exporter": "python",
   "pygments_lexer": "ipython3",
   "version": "3.9.7"
  },
  "orig_nbformat": 4
 },
 "nbformat": 4,
 "nbformat_minor": 2
}
