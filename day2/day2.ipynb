{
 "cells": [
  {
   "cell_type": "code",
   "execution_count": 97,
   "metadata": {},
   "outputs": [],
   "source": [
    "import pandas as pd\n",
    "\n",
    "course = pd.read_csv('test_data.csv', header=None)\n",
    "course[['direction', 'value']] = course.iloc[:,0].str.split(' ', 1, expand = True)\n",
    "course = course.filter(items=['direction','value'])"
   ]
  },
  {
   "cell_type": "code",
   "execution_count": 98,
   "metadata": {},
   "outputs": [
    {
     "data": {
      "text/html": [
       "<div>\n",
       "<style scoped>\n",
       "    .dataframe tbody tr th:only-of-type {\n",
       "        vertical-align: middle;\n",
       "    }\n",
       "\n",
       "    .dataframe tbody tr th {\n",
       "        vertical-align: top;\n",
       "    }\n",
       "\n",
       "    .dataframe thead th {\n",
       "        text-align: right;\n",
       "    }\n",
       "</style>\n",
       "<table border=\"1\" class=\"dataframe\">\n",
       "  <thead>\n",
       "    <tr style=\"text-align: right;\">\n",
       "      <th></th>\n",
       "      <th>direction</th>\n",
       "      <th>value</th>\n",
       "    </tr>\n",
       "  </thead>\n",
       "  <tbody>\n",
       "    <tr>\n",
       "      <th>0</th>\n",
       "      <td>down</td>\n",
       "      <td>13</td>\n",
       "    </tr>\n",
       "    <tr>\n",
       "      <th>1</th>\n",
       "      <td>forward</td>\n",
       "      <td>15</td>\n",
       "    </tr>\n",
       "    <tr>\n",
       "      <th>2</th>\n",
       "      <td>up</td>\n",
       "      <td>3</td>\n",
       "    </tr>\n",
       "  </tbody>\n",
       "</table>\n",
       "</div>"
      ],
      "text/plain": [
       "  direction  value\n",
       "0      down     13\n",
       "1   forward     15\n",
       "2        up      3"
      ]
     },
     "execution_count": 98,
     "metadata": {},
     "output_type": "execute_result"
    }
   ],
   "source": [
    "course['value'] = course.value.astype('int64')\n",
    "groupped_df = course.groupby(['direction']).sum().reset_index()\n",
    "groupped_df"
   ]
  },
  {
   "cell_type": "code",
   "execution_count": 99,
   "metadata": {},
   "outputs": [
    {
     "data": {
      "text/plain": [
       "150"
      ]
     },
     "execution_count": 99,
     "metadata": {},
     "output_type": "execute_result"
    }
   ],
   "source": [
    "vertical_direction = (\n",
    "    groupped_df\n",
    "    .loc[groupped_df['direction'] == 'down','value']\n",
    "    .item() -\n",
    "    groupped_df\n",
    "    .loc[groupped_df['direction'] == 'up','value']\n",
    "    .item()\n",
    ")\n",
    "\n",
    "horizontal_direction = (\n",
    "    groupped_df\n",
    "    .loc[groupped_df['direction'] == 'forward','value']\n",
    "    .item() *\n",
    "    vertical_direction\n",
    ")\n",
    "\n",
    "horizontal_direction"
   ]
  },
  {
   "cell_type": "markdown",
   "metadata": {},
   "source": [
    "Input data"
   ]
  },
  {
   "cell_type": "code",
   "execution_count": 100,
   "metadata": {},
   "outputs": [],
   "source": [
    "import pandas as pd\n",
    "\n",
    "course = pd.read_csv('input_data.csv', header=None)\n",
    "course[['direction', 'value']] = course.iloc[:,0].str.split(' ', 1, expand = True)\n",
    "course = course.filter(items=['direction','value'])"
   ]
  },
  {
   "cell_type": "code",
   "execution_count": 101,
   "metadata": {},
   "outputs": [
    {
     "data": {
      "text/html": [
       "<div>\n",
       "<style scoped>\n",
       "    .dataframe tbody tr th:only-of-type {\n",
       "        vertical-align: middle;\n",
       "    }\n",
       "\n",
       "    .dataframe tbody tr th {\n",
       "        vertical-align: top;\n",
       "    }\n",
       "\n",
       "    .dataframe thead th {\n",
       "        text-align: right;\n",
       "    }\n",
       "</style>\n",
       "<table border=\"1\" class=\"dataframe\">\n",
       "  <thead>\n",
       "    <tr style=\"text-align: right;\">\n",
       "      <th></th>\n",
       "      <th>direction</th>\n",
       "      <th>value</th>\n",
       "    </tr>\n",
       "  </thead>\n",
       "  <tbody>\n",
       "    <tr>\n",
       "      <th>0</th>\n",
       "      <td>down</td>\n",
       "      <td>1810</td>\n",
       "    </tr>\n",
       "    <tr>\n",
       "      <th>1</th>\n",
       "      <td>forward</td>\n",
       "      <td>2034</td>\n",
       "    </tr>\n",
       "    <tr>\n",
       "      <th>2</th>\n",
       "      <td>up</td>\n",
       "      <td>1108</td>\n",
       "    </tr>\n",
       "  </tbody>\n",
       "</table>\n",
       "</div>"
      ],
      "text/plain": [
       "  direction  value\n",
       "0      down   1810\n",
       "1   forward   2034\n",
       "2        up   1108"
      ]
     },
     "execution_count": 101,
     "metadata": {},
     "output_type": "execute_result"
    }
   ],
   "source": [
    "course['value'] = course.value.astype('int64')\n",
    "groupped_df = course.groupby(['direction']).sum().reset_index()\n",
    "groupped_df"
   ]
  },
  {
   "cell_type": "code",
   "execution_count": 102,
   "metadata": {},
   "outputs": [
    {
     "data": {
      "text/plain": [
       "1427868"
      ]
     },
     "execution_count": 102,
     "metadata": {},
     "output_type": "execute_result"
    }
   ],
   "source": [
    "vertical_direction = (\n",
    "    groupped_df\n",
    "    .loc[groupped_df['direction'] == 'down','value']\n",
    "    .item() -\n",
    "    groupped_df\n",
    "    .loc[groupped_df['direction'] == 'up','value']\n",
    "    .item()\n",
    ")\n",
    "\n",
    "horizontal_direction = (\n",
    "    groupped_df\n",
    "    .loc[groupped_df['direction'] == 'forward','value']\n",
    "    .item() *\n",
    "    vertical_direction\n",
    ")\n",
    "\n",
    "horizontal_direction"
   ]
  },
  {
   "cell_type": "code",
   "execution_count": 113,
   "metadata": {},
   "outputs": [],
   "source": [
    "import pandas as pd\n",
    "\n",
    "course = pd.read_csv('test_data.csv', header=None)"
   ]
  },
  {
   "cell_type": "code",
   "execution_count": 161,
   "metadata": {},
   "outputs": [
    {
     "name": "stdout",
     "output_type": "stream",
     "text": [
      "900\n"
     ]
    }
   ],
   "source": [
    "def eval_position(data):\n",
    "\n",
    "    import re\n",
    "\n",
    "    aim = 0\n",
    "    hor_pos = 0\n",
    "    depth = 0\n",
    "\n",
    "    for direction in data.values:\n",
    "        value = direction[0]\n",
    "        number = int(\n",
    "            re\n",
    "            .search(r'(?i)[0-9]+', value)\n",
    "            .group()\n",
    "        )\n",
    "\n",
    "        if re.search('forward', value):\n",
    "            hor_pos = hor_pos + number\n",
    "            depth = depth + (number * aim)\n",
    "        if re.search('down',value):\n",
    "            aim = aim + number\n",
    "        if re.search('up',value):\n",
    "            aim = aim - number\n",
    "\n",
    "    print(hor_pos * depth)\n",
    "\n",
    "eval_position(course)\n",
    "\n",
    "\n"
   ]
  },
  {
   "cell_type": "code",
   "execution_count": 163,
   "metadata": {},
   "outputs": [
    {
     "name": "stdout",
     "output_type": "stream",
     "text": [
      "1568138742\n"
     ]
    }
   ],
   "source": [
    "course = pd.read_csv('input_data.csv', header=None)\n",
    "eval_position(course)"
   ]
  },
  {
   "cell_type": "code",
   "execution_count": null,
   "metadata": {},
   "outputs": [],
   "source": []
  }
 ],
 "metadata": {
  "interpreter": {
   "hash": "919d5182d6e251f85cfea4f0d38d6cd16b39376b792c9ccd6a31cc8ff7d08ddb"
  },
  "kernelspec": {
   "display_name": "Python 3.9.7 64-bit ('sagemaker_env-KJbbt5wZ': pipenv)",
   "language": "python",
   "name": "python3"
  },
  "language_info": {
   "codemirror_mode": {
    "name": "ipython",
    "version": 3
   },
   "file_extension": ".py",
   "mimetype": "text/x-python",
   "name": "python",
   "nbconvert_exporter": "python",
   "pygments_lexer": "ipython3",
   "version": "3.9.7"
  },
  "orig_nbformat": 4
 },
 "nbformat": 4,
 "nbformat_minor": 2
}
