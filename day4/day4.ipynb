{
 "cells": [
  {
   "cell_type": "code",
   "execution_count": 2,
   "metadata": {},
   "outputs": [
    {
     "name": "stdout",
     "output_type": "stream",
     "text": [
      "Index is at 2\n",
      "     0   1   2   3   4\n",
      "10   X   X   X   X   X\n",
      "11  10  16  15   X  19\n",
      "12  18   8   X  26  20\n",
      "13  22   X  13   6   X\n",
      "14   X   X  12   3   X\n"
     ]
    },
    {
     "data": {
      "text/plain": [
       "4512"
      ]
     },
     "execution_count": 2,
     "metadata": {},
     "output_type": "execute_result"
    }
   ],
   "source": [
    "import pandas as pd\n",
    "numbers = pd.read_csv('bingo_number_test.csv', header=None)\n",
    "data = pd.read_csv('test_data.csv', delim_whitespace=True, header=None)\n",
    "\n",
    "def bingo(data, numbers):\n",
    "\n",
    "    replaced = []\n",
    "    ls = []\n",
    "\n",
    "    for x in range(0, len(data), 5):\n",
    "        # print(data.iloc[x:x+5, :])\n",
    "        array = data.iloc[x:x+5, :]\n",
    "        ls.append(array)\n",
    "\n",
    "    replaced = ls\n",
    "    out_array = []\n",
    "    for bing_no in numbers.iloc[0,:].values:\n",
    "        replaced = [x.replace(bing_no, 'X') for x in replaced]\n",
    "        for idx in range(len(replaced)):\n",
    "            is_x = replaced[idx] == 'X'\n",
    "            any_rows = is_x.aggregate(\"all\", axis='columns').any()\n",
    "            any_cols = is_x.aggregate(\"all\", axis='rows').any()\n",
    "            if any_rows or any_cols:\n",
    "                output = replaced[idx].replace('X', 0)\n",
    "                output = output.aggregate(\"sum\", axis='columns').sum()\n",
    "                print(f'Index is at {idx}')\n",
    "                print(replaced[idx])\n",
    "                return (output*bing_no)\n",
    "\n",
    "bingo(data, numbers)"
   ]
  },
  {
   "cell_type": "code",
   "execution_count": 3,
   "metadata": {},
   "outputs": [
    {
     "name": "stdout",
     "output_type": "stream",
     "text": [
      "Index is at 14\n",
      "    0   1   2   3   4\n",
      "70  X  93  48  17  33\n",
      "71  X   7   5   0  69\n",
      "72  X   X  52   1   X\n",
      "73  X  73   X  25  16\n",
      "74  X  20  41  77  62\n"
     ]
    },
    {
     "data": {
      "text/plain": [
       "34506"
      ]
     },
     "execution_count": 3,
     "metadata": {},
     "output_type": "execute_result"
    }
   ],
   "source": [
    "numbers = pd.read_csv('bingo_number_input.csv', header=None)\n",
    "data = pd.read_csv('input_data.csv', delim_whitespace=True, header=None)\n",
    "\n",
    "bingo(data, numbers)"
   ]
  },
  {
   "cell_type": "code",
   "execution_count": 18,
   "metadata": {},
   "outputs": [
    {
     "name": "stdout",
     "output_type": "stream",
     "text": [
      "Index is at 58\n",
      "      0   1   2  3   4\n",
      "290  93   X   X  X   X\n",
      "291   X   X  20  X   X\n",
      "292   X   X   X  X   X\n",
      "293   X  22   X  X   X\n",
      "294   X   X   X  X  48\n",
      "[ True  True  True  True  True  True  True  True  True  True  True  True\n",
      "  True  True  True  True  True  True  True  True  True  True  True  True\n",
      "  True  True  True  True  True  True  True  True  True  True  True  True\n",
      "  True  True  True  True  True  True  True  True  True  True  True  True\n",
      "  True  True  True  True  True  True  True  True  True  True  True  True\n",
      "  True  True  True  True  True  True  True  True  True  True  True  True\n",
      "  True  True  True  True  True  True  True  True  True  True  True  True\n",
      "  True  True  True  True  True  True  True  True  True  True  True  True\n",
      "  True  True  True  True]\n"
     ]
    },
    {
     "data": {
      "text/plain": [
       "7686"
      ]
     },
     "execution_count": 18,
     "metadata": {},
     "output_type": "execute_result"
    }
   ],
   "source": [
    "# What determines a board to win last??\n",
    "# Do all board get filled in the end? yes\n",
    "numbers = pd.read_csv('bingo_number_input.csv', header=None)\n",
    "data = pd.read_csv('input_data.csv', delim_whitespace=True, header=None)\n",
    "\n",
    "def bingo(data, numbers):\n",
    "\n",
    "    import numpy as np\n",
    "\n",
    "    replaced = []\n",
    "    ls = []\n",
    "\n",
    "    for x in range(0, len(data), 5):\n",
    "        # print(data.iloc[x:x+5, :])\n",
    "        array = data.iloc[x:x+5, :]\n",
    "        ls.append(array)\n",
    "\n",
    "    replaced = ls\n",
    "    tally = np.array([False for i in range(len(ls))])\n",
    "    for bing_no in numbers.iloc[0,:].values:\n",
    "        replaced = [x.replace(bing_no, 'X') for x in replaced]\n",
    "        for idx in range(len(replaced)):\n",
    "            is_x = replaced[idx] == 'X'\n",
    "            any_rows = is_x.aggregate(\"all\", axis='columns').any()\n",
    "            any_cols = is_x.aggregate(\"all\", axis='rows').any()\n",
    "            if any_rows or any_cols:\n",
    "                tally[idx] = True\n",
    "\n",
    "            if tally.all():\n",
    "                output = replaced[idx].replace('X', 0)\n",
    "                output = output.aggregate(\"sum\", axis='columns').sum()\n",
    "                print(f'Index is at {idx}')\n",
    "                print(replaced[idx])\n",
    "                print(tally)\n",
    "                return (output*bing_no)\n",
    "\n",
    "bingo(data, numbers)"
   ]
  }
 ],
 "metadata": {
  "interpreter": {
   "hash": "919d5182d6e251f85cfea4f0d38d6cd16b39376b792c9ccd6a31cc8ff7d08ddb"
  },
  "kernelspec": {
   "display_name": "Python 3.9.7 64-bit ('sagemaker_env-KJbbt5wZ': pipenv)",
   "language": "python",
   "name": "python3"
  },
  "language_info": {
   "codemirror_mode": {
    "name": "ipython",
    "version": 3
   },
   "file_extension": ".py",
   "mimetype": "text/x-python",
   "name": "python",
   "nbconvert_exporter": "python",
   "pygments_lexer": "ipython3",
   "version": "3.9.7"
  },
  "orig_nbformat": 4
 },
 "nbformat": 4,
 "nbformat_minor": 2
}
