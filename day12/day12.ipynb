{
 "cells": [
  {
   "cell_type": "code",
   "execution_count": 42,
   "metadata": {},
   "outputs": [],
   "source": []
  },
  {
   "cell_type": "code",
   "execution_count": 71,
   "metadata": {},
   "outputs": [
    {
     "name": "stderr",
     "output_type": "stream",
     "text": [
      "/var/folders/kj/2sm6n_8n4qz6nc6n10vljkbr0000gn/T/ipykernel_37573/3325392542.py:10: UserWarning: This pattern has match groups. To actually get the groups, use str.extract.\n",
      "  ends_caps = data.paths.str.contains(r'(^[a-zA-Z]{1,2})-[A-Z]{1,2}$')\n"
     ]
    },
    {
     "data": {
      "text/html": [
       "<div>\n",
       "<style scoped>\n",
       "    .dataframe tbody tr th:only-of-type {\n",
       "        vertical-align: middle;\n",
       "    }\n",
       "\n",
       "    .dataframe tbody tr th {\n",
       "        vertical-align: top;\n",
       "    }\n",
       "\n",
       "    .dataframe thead th {\n",
       "        text-align: right;\n",
       "    }\n",
       "</style>\n",
       "<table border=\"1\" class=\"dataframe\">\n",
       "  <thead>\n",
       "    <tr style=\"text-align: right;\">\n",
       "      <th></th>\n",
       "      <th>paths</th>\n",
       "      <th>starts</th>\n",
       "      <th>start_caps</th>\n",
       "      <th>ends_caps</th>\n",
       "      <th>all_small</th>\n",
       "      <th>ends</th>\n",
       "    </tr>\n",
       "  </thead>\n",
       "  <tbody>\n",
       "    <tr>\n",
       "      <th>0</th>\n",
       "      <td>start-A</td>\n",
       "      <td>start-A</td>\n",
       "      <td>NaN</td>\n",
       "      <td>NaN</td>\n",
       "      <td>NaN</td>\n",
       "      <td>NaN</td>\n",
       "    </tr>\n",
       "    <tr>\n",
       "      <th>1</th>\n",
       "      <td>start-b</td>\n",
       "      <td>start-b</td>\n",
       "      <td>NaN</td>\n",
       "      <td>NaN</td>\n",
       "      <td>NaN</td>\n",
       "      <td>NaN</td>\n",
       "    </tr>\n",
       "    <tr>\n",
       "      <th>2</th>\n",
       "      <td>A-c</td>\n",
       "      <td>NaN</td>\n",
       "      <td>A-c</td>\n",
       "      <td>NaN</td>\n",
       "      <td>NaN</td>\n",
       "      <td>NaN</td>\n",
       "    </tr>\n",
       "    <tr>\n",
       "      <th>3</th>\n",
       "      <td>A-b</td>\n",
       "      <td>NaN</td>\n",
       "      <td>A-b</td>\n",
       "      <td>NaN</td>\n",
       "      <td>NaN</td>\n",
       "      <td>NaN</td>\n",
       "    </tr>\n",
       "    <tr>\n",
       "      <th>4</th>\n",
       "      <td>b-d</td>\n",
       "      <td>NaN</td>\n",
       "      <td>NaN</td>\n",
       "      <td>NaN</td>\n",
       "      <td>b-d</td>\n",
       "      <td>NaN</td>\n",
       "    </tr>\n",
       "    <tr>\n",
       "      <th>5</th>\n",
       "      <td>A-end</td>\n",
       "      <td>NaN</td>\n",
       "      <td>NaN</td>\n",
       "      <td>NaN</td>\n",
       "      <td>NaN</td>\n",
       "      <td>A-end</td>\n",
       "    </tr>\n",
       "    <tr>\n",
       "      <th>6</th>\n",
       "      <td>b-end</td>\n",
       "      <td>NaN</td>\n",
       "      <td>NaN</td>\n",
       "      <td>NaN</td>\n",
       "      <td>NaN</td>\n",
       "      <td>b-end</td>\n",
       "    </tr>\n",
       "  </tbody>\n",
       "</table>\n",
       "</div>"
      ],
      "text/plain": [
       "     paths   starts start_caps ends_caps all_small   ends\n",
       "0  start-A  start-A        NaN       NaN       NaN    NaN\n",
       "1  start-b  start-b        NaN       NaN       NaN    NaN\n",
       "2      A-c      NaN        A-c       NaN       NaN    NaN\n",
       "3      A-b      NaN        A-b       NaN       NaN    NaN\n",
       "4      b-d      NaN        NaN       NaN       b-d    NaN\n",
       "5    A-end      NaN        NaN       NaN       NaN  A-end\n",
       "6    b-end      NaN        NaN       NaN       NaN  b-end"
      ]
     },
     "execution_count": 71,
     "metadata": {},
     "output_type": "execute_result"
    }
   ],
   "source": [
    "import pandas as pd\n",
    "data = pd.read_csv('test_data.csv', header = None)\n",
    "data.rename(columns={0:'paths'}, inplace=True)\n",
    "starts = data.paths.str.contains(r'start')\n",
    "starts = data.loc[starts, :]\n",
    "ends = data.paths.str.contains(r'end')\n",
    "ends = data.loc[ends, :]\n",
    "starts_caps = data.paths.str.contains(r'^[A-Z]{1,2}-[a-z]{1,2}$')\n",
    "starts_caps = data.loc[starts_caps,:]\n",
    "ends_caps = data.paths.str.contains(r'(^[a-zA-Z]{1,2})-[A-Z]{1,2}$')\n",
    "ends_caps = data.loc[ends_caps,:]\n",
    "all_small = data.paths.str.contains(r'^[a-z]{1,2}-[a-z]{1,2}$')\n",
    "all_small = data.loc[all_small,:]\n",
    "data['starts'] = starts\n",
    "data['start_caps'] = starts_caps\n",
    "data['ends_caps'] = ends_caps\n",
    "data['all_small'] = all_small\n",
    "data['ends'] = ends\n",
    "data\n"
   ]
  },
  {
   "cell_type": "code",
   "execution_count": 80,
   "metadata": {},
   "outputs": [
    {
     "data": {
      "text/html": [
       "<div>\n",
       "<style scoped>\n",
       "    .dataframe tbody tr th:only-of-type {\n",
       "        vertical-align: middle;\n",
       "    }\n",
       "\n",
       "    .dataframe tbody tr th {\n",
       "        vertical-align: top;\n",
       "    }\n",
       "\n",
       "    .dataframe thead th {\n",
       "        text-align: right;\n",
       "    }\n",
       "</style>\n",
       "<table border=\"1\" class=\"dataframe\">\n",
       "  <thead>\n",
       "    <tr style=\"text-align: right;\">\n",
       "      <th></th>\n",
       "      <th>paths</th>\n",
       "      <th>starts</th>\n",
       "      <th>intermediates</th>\n",
       "      <th>ends</th>\n",
       "    </tr>\n",
       "  </thead>\n",
       "  <tbody>\n",
       "    <tr>\n",
       "      <th>0</th>\n",
       "      <td>start-A</td>\n",
       "      <td>start-A</td>\n",
       "      <td>NaN</td>\n",
       "      <td>NaN</td>\n",
       "    </tr>\n",
       "    <tr>\n",
       "      <th>1</th>\n",
       "      <td>start-b</td>\n",
       "      <td>start-b</td>\n",
       "      <td>NaN</td>\n",
       "      <td>NaN</td>\n",
       "    </tr>\n",
       "    <tr>\n",
       "      <th>2</th>\n",
       "      <td>A-c</td>\n",
       "      <td>NaN</td>\n",
       "      <td>A-c</td>\n",
       "      <td>NaN</td>\n",
       "    </tr>\n",
       "    <tr>\n",
       "      <th>3</th>\n",
       "      <td>A-b</td>\n",
       "      <td>NaN</td>\n",
       "      <td>A-b</td>\n",
       "      <td>NaN</td>\n",
       "    </tr>\n",
       "    <tr>\n",
       "      <th>4</th>\n",
       "      <td>b-d</td>\n",
       "      <td>NaN</td>\n",
       "      <td>b-d</td>\n",
       "      <td>NaN</td>\n",
       "    </tr>\n",
       "    <tr>\n",
       "      <th>5</th>\n",
       "      <td>A-end</td>\n",
       "      <td>NaN</td>\n",
       "      <td>NaN</td>\n",
       "      <td>A-end</td>\n",
       "    </tr>\n",
       "    <tr>\n",
       "      <th>6</th>\n",
       "      <td>b-end</td>\n",
       "      <td>NaN</td>\n",
       "      <td>NaN</td>\n",
       "      <td>b-end</td>\n",
       "    </tr>\n",
       "  </tbody>\n",
       "</table>\n",
       "</div>"
      ],
      "text/plain": [
       "     paths   starts intermediates   ends\n",
       "0  start-A  start-A           NaN    NaN\n",
       "1  start-b  start-b           NaN    NaN\n",
       "2      A-c      NaN           A-c    NaN\n",
       "3      A-b      NaN           A-b    NaN\n",
       "4      b-d      NaN           b-d    NaN\n",
       "5    A-end      NaN           NaN  A-end\n",
       "6    b-end      NaN           NaN  b-end"
      ]
     },
     "execution_count": 80,
     "metadata": {},
     "output_type": "execute_result"
    }
   ],
   "source": [
    "import pandas as pd\n",
    "data = pd.read_csv('test_data.csv', header = None)\n",
    "data.rename(columns={0:'paths'}, inplace=True)\n",
    "\n",
    "starts = data.paths.str.contains(r'start')\n",
    "starts = data.loc[starts, :]\n",
    "ends = data.paths.str.contains(r'end')\n",
    "ends = data.loc[ends, :]\n",
    "intermeidates = data.paths.str.contains(r'(?i)^[a-z]{1,2}-[a-z]{1,2}$')\n",
    "intermeidates = data.loc[intermeidates, :]\n",
    "\n",
    "data['starts'] = starts\n",
    "data['intermediates'] = intermeidates\n",
    "data['ends'] = ends\n",
    "data"
   ]
  },
  {
   "cell_type": "code",
   "execution_count": 8,
   "metadata": {},
   "outputs": [
    {
     "data": {
      "text/plain": [
       "[None, None]"
      ]
     },
     "execution_count": 8,
     "metadata": {},
     "output_type": "execute_result"
    }
   ],
   "source": [
    "start_position = 'start-A'\n",
    "\n",
    "import pandas as pd\n",
    "data = pd.read_csv('test_data.csv', header = None)\n",
    "data.rename(columns={0:'paths'}, inplace=True)\n",
    "\n",
    "# Find intermediates\n",
    "intermeidates = data.paths.str.contains(r'(?i)^[a-z]{1,2}-[a-z]{1,2}$')\n",
    "intermeidates = data.loc[intermeidates, :]\n",
    "\n",
    "# Find ends\n",
    "ends = data.paths.str.contains(r'end')\n",
    "ends = data.loc[ends, :]\n",
    "\n",
    "# Split at - to flip vals then rejoin\n",
    "values = intermeidates.paths.str.split('-')\n",
    "values = [x for x in values]\n",
    "inverted = [[x[1],x[0]] for x in values]\n",
    "inverted = ['-'.join(x) for x in inverted]\n",
    "\n",
    "# Combine all into list\n",
    "intermeidates = [item[0] for item in intermeidates.values.tolist()]\n",
    "[inverted.append(x) for x in intermeidates]\n",
    "[inverted.append(x[0]) for x in ends.values]\n",
    "\n",
    "#start A - 3 options then 2 options c or b"
   ]
  },
  {
   "cell_type": "code",
   "execution_count": 9,
   "metadata": {},
   "outputs": [
    {
     "data": {
      "text/plain": [
       "['c-A', 'b-A', 'd-b', 'A-c', 'A-b', 'b-d', 'A-end', 'b-end']"
      ]
     },
     "execution_count": 9,
     "metadata": {},
     "output_type": "execute_result"
    }
   ],
   "source": [
    "inverted"
   ]
  },
  {
   "cell_type": "code",
   "execution_count": 89,
   "metadata": {},
   "outputs": [
    {
     "data": {
      "text/plain": [
       "0    c-A\n",
       "dtype: object"
      ]
     },
     "execution_count": 89,
     "metadata": {},
     "output_type": "execute_result"
    }
   ],
   "source": [
    "import re\n",
    "import numpy as np\n",
    "\n",
    "def find_match(df:pd.Series, string):\n",
    "    # Find a match using the last chr at the key.\n",
    "    str_chr = re.findall('(?i)[a-z]$', string)\n",
    "    index = df.str.contains(f'^{str_chr[0]}')\n",
    "    return df[index]\n",
    "\n",
    "def find_last_chr(df:pd.Series):\n",
    "    # Extract the last character and drop na.\n",
    "    extract_val = df.str.extract(r'-(.*)')\n",
    "    return extract_val.dropna()\n",
    "\n",
    "path_count = 0\n",
    "inverted = pd.Series(inverted)\n",
    "inverted = inverted.replace(np.nan, '')\n",
    "\n",
    "start = 'start-A'\n",
    "small_chambers = []\n",
    "\n",
    "returned_vals = find_match(inverted, 'start-A')\n",
    "\n",
    "if any(returned_vals.str.contains('end')):\n",
    "    path_count += sum(returned_vals.str.contains('end'))\n",
    "\n",
    "returned_vals = returned_vals.str.replace(r'[A-Z]+-end', 'NA', regex=True)\n",
    "next_loc = find_last_chr(returned_vals)\n",
    "\n",
    "# append visited small chambers to list\n",
    "for each_chr in next_loc.values.tolist():\n",
    "    if each_chr[0].islower():\n",
    "        small_chambers.append(each_chr[0])\n",
    "\n",
    "find_match(inverted, next_loc.values.tolist()[0][0])"
   ]
  },
  {
   "cell_type": "code",
   "execution_count": 90,
   "metadata": {},
   "outputs": [
    {
     "data": {
      "text/html": [
       "<div>\n",
       "<style scoped>\n",
       "    .dataframe tbody tr th:only-of-type {\n",
       "        vertical-align: middle;\n",
       "    }\n",
       "\n",
       "    .dataframe tbody tr th {\n",
       "        vertical-align: top;\n",
       "    }\n",
       "\n",
       "    .dataframe thead th {\n",
       "        text-align: right;\n",
       "    }\n",
       "</style>\n",
       "<table border=\"1\" class=\"dataframe\">\n",
       "  <thead>\n",
       "    <tr style=\"text-align: right;\">\n",
       "      <th></th>\n",
       "      <th>0</th>\n",
       "    </tr>\n",
       "  </thead>\n",
       "  <tbody>\n",
       "    <tr>\n",
       "      <th>3</th>\n",
       "      <td>c</td>\n",
       "    </tr>\n",
       "    <tr>\n",
       "      <th>4</th>\n",
       "      <td>b</td>\n",
       "    </tr>\n",
       "  </tbody>\n",
       "</table>\n",
       "</div>"
      ],
      "text/plain": [
       "   0\n",
       "3  c\n",
       "4  b"
      ]
     },
     "execution_count": 90,
     "metadata": {},
     "output_type": "execute_result"
    }
   ],
   "source": [
    "next_loc"
   ]
  },
  {
   "cell_type": "code",
   "execution_count": 19,
   "metadata": {},
   "outputs": [
    {
     "data": {
      "text/plain": [
       "1"
      ]
     },
     "execution_count": 19,
     "metadata": {},
     "output_type": "execute_result"
    }
   ],
   "source": [
    "sum(returned_vals.str.contains('end'))"
   ]
  },
  {
   "cell_type": "code",
   "execution_count": 72,
   "metadata": {},
   "outputs": [
    {
     "data": {
      "text/plain": [
       "True"
      ]
     },
     "execution_count": 72,
     "metadata": {},
     "output_type": "execute_result"
    }
   ],
   "source": [
    "str = 'sds'\n",
    "str.islower()"
   ]
  },
  {
   "cell_type": "code",
   "execution_count": null,
   "metadata": {},
   "outputs": [],
   "source": []
  }
 ],
 "metadata": {
  "interpreter": {
   "hash": "53b9ae5b2e13984c60f33ad01525842f2ba2adec37730199c11a79beaad5b972"
  },
  "kernelspec": {
   "display_name": "Python 3.9.7 64-bit ('advent-of-code-TnhYLct3-py3.9': poetry)",
   "language": "python",
   "name": "python3"
  },
  "language_info": {
   "codemirror_mode": {
    "name": "ipython",
    "version": 3
   },
   "file_extension": ".py",
   "mimetype": "text/x-python",
   "name": "python",
   "nbconvert_exporter": "python",
   "pygments_lexer": "ipython3",
   "version": "3.9.7"
  },
  "orig_nbformat": 4
 },
 "nbformat": 4,
 "nbformat_minor": 2
}
