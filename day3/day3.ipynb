{
 "cells": [
  {
   "cell_type": "code",
   "execution_count": 1,
   "metadata": {},
   "outputs": [],
   "source": [
    "import pandas as pd\n",
    "\n",
    "data = pd.read_csv('test_data.csv', header = None)"
   ]
  },
  {
   "cell_type": "code",
   "execution_count": 2,
   "metadata": {},
   "outputs": [
    {
     "data": {
      "text/plain": [
       "[b'00100\\n',\n",
       " b'11110\\n',\n",
       " b'10110\\n',\n",
       " b'10111\\n',\n",
       " b'10101\\n',\n",
       " b'01111\\n',\n",
       " b'00111\\n',\n",
       " b'11100\\n',\n",
       " b'10000\\n',\n",
       " b'11001\\n',\n",
       " b'00010\\n',\n",
       " b'01010']"
      ]
     },
     "execution_count": 2,
     "metadata": {},
     "output_type": "execute_result"
    }
   ],
   "source": [
    "with open('test_data.csv', 'rb') as f:\n",
    "    data = f.readlines()\n",
    "data  # binary values represented as string"
   ]
  },
  {
   "cell_type": "code",
   "execution_count": 3,
   "metadata": {},
   "outputs": [
    {
     "ename": "SyntaxError",
     "evalue": "invalid syntax (19860385.py, line 11)",
     "output_type": "error",
     "traceback": [
      "\u001b[0;36m  File \u001b[0;32m\"/var/folders/kj/2sm6n_8n4qz6nc6n10vljkbr0000gn/T/ipykernel_18745/19860385.py\"\u001b[0;36m, line \u001b[0;32m11\u001b[0m\n\u001b[0;31m    if val\u001b[0m\n\u001b[0m           ^\u001b[0m\n\u001b[0;31mSyntaxError\u001b[0m\u001b[0;31m:\u001b[0m invalid syntax\n"
     ]
    }
   ],
   "source": [
    "import re\n",
    "\n",
    "values = data.values\n",
    "position1 = 0\n",
    "position2 = 0\n",
    "position3 = 0\n",
    "position4 = 0\n",
    "position5 = 0\n",
    "\n",
    "for val in values:\n",
    "    if val "
   ]
  },
  {
   "cell_type": "code",
   "execution_count": 4,
   "metadata": {},
   "outputs": [
    {
     "ename": "NameError",
     "evalue": "name 'values' is not defined",
     "output_type": "error",
     "traceback": [
      "\u001b[0;31m---------------------------------------------------------------------------\u001b[0m",
      "\u001b[0;31mNameError\u001b[0m                                 Traceback (most recent call last)",
      "\u001b[0;32m/var/folders/kj/2sm6n_8n4qz6nc6n10vljkbr0000gn/T/ipykernel_18745/2214473475.py\u001b[0m in \u001b[0;36m<module>\u001b[0;34m\u001b[0m\n\u001b[0;32m----> 1\u001b[0;31m \u001b[0mvalues\u001b[0m\u001b[0;34m\u001b[0m\u001b[0;34m\u001b[0m\u001b[0m\n\u001b[0m",
      "\u001b[0;31mNameError\u001b[0m: name 'values' is not defined"
     ]
    }
   ],
   "source": [
    "values"
   ]
  },
  {
   "cell_type": "code",
   "execution_count": 5,
   "metadata": {},
   "outputs": [],
   "source": [
    "import pandas as pd\n",
    "\n",
    "data = pd.read_csv('test_data.csv', header = None)\n",
    "data[0] = data[0].astype('str').str.zfill(5)\n"
   ]
  },
  {
   "cell_type": "code",
   "execution_count": 37,
   "metadata": {},
   "outputs": [],
   "source": [
    "import pandas as pd\n",
    "\n",
    "data = pd.read_csv('test_data.csv', header = None)\n",
    "\n",
    "def get_binary(data):\n",
    "\n",
    "    # Get data into workable format. Create df of appropriate value positions\n",
    "    data[0] = data[0].astype('str').str.zfill(12)\n",
    "    df = []\n",
    "    for item in data[0]:\n",
    "        digits = [int(x) for x in str(item)]\n",
    "        df.append(digits)\n",
    "\n",
    "    df = pd.DataFrame(df)\n",
    "\n",
    "    # Find most common occuring value\n",
    "    maximum_val = []\n",
    "    minimum_val = []\n",
    "    for col in df.columns:\n",
    "        print(col)\n",
    "        val = df.groupby(col).size().idxmax()\n",
    "        maximum_val.append(val)\n",
    "        small_val = df.groupby(col).size().idxmin()\n",
    "        minimum_val.append(small_val)\n",
    "\n",
    "    # Convert to string and join\n",
    "    maximum_val = [str(x) for x in maximum_val]\n",
    "    maximum_val = ''.join(maximum_val)\n",
    "    minimum_val = [str(x) for x in minimum_val]\n",
    "    minimum_val = ''.join(minimum_val)\n",
    "\n",
    "    product = int(minimum_val, 2) * int(maximum_val,2)\n",
    "\n",
    "    return (product)\n"
   ]
  },
  {
   "cell_type": "code",
   "execution_count": 38,
   "metadata": {},
   "outputs": [
    {
     "name": "stdout",
     "output_type": "stream",
     "text": [
      "0\n",
      "1\n",
      "2\n",
      "3\n",
      "4\n",
      "5\n",
      "6\n",
      "7\n",
      "8\n",
      "9\n",
      "10\n",
      "11\n"
     ]
    },
    {
     "data": {
      "text/plain": [
       "4191876"
      ]
     },
     "execution_count": 38,
     "metadata": {},
     "output_type": "execute_result"
    }
   ],
   "source": [
    "data = pd.read_csv('input_data.csv', header=None)\n",
    "get_binary(data)"
   ]
  },
  {
   "cell_type": "code",
   "execution_count": 92,
   "metadata": {},
   "outputs": [
    {
     "data": {
      "text/plain": [
       "230"
      ]
     },
     "execution_count": 92,
     "metadata": {},
     "output_type": "execute_result"
    }
   ],
   "source": [
    "data = pd.read_csv('test_data.csv', header = None)\n",
    "\n",
    "# Get data into workable format. Create df of appropriate value positions\n",
    "data[0] = data[0].astype('str').str.zfill(5)\n",
    "df = []\n",
    "for item in data[0]:\n",
    "    digits = [int(x) for x in str(item)]\n",
    "    df.append(digits)\n",
    "\n",
    "df = pd.DataFrame(df)\n",
    "\n",
    "# Find most common occuring value\n",
    "maximum_val = []\n",
    "minimum_val = []\n",
    "\n",
    "oxygen = df.copy()\n",
    "for col in oxygen.columns:\n",
    "\n",
    "    if (len(oxygen) == 1):\n",
    "        break\n",
    "\n",
    "    counts = oxygen.groupby(col).size()\n",
    "    val = counts.idxmax()\n",
    "    small_val = counts.idxmin()\n",
    "\n",
    "    unique_vals = len(pd.unique(oxygen.iloc[:,col])) \n",
    "    # if there is only one unique vals\n",
    "    if unique_vals == 1:\n",
    "        oxygen = oxygen.loc[oxygen[col] == val, :]\n",
    "    else:\n",
    "        # if counts are equal assign to 1 for oxygen\n",
    "        if (counts[0] == counts[1]):\n",
    "            oxygen = oxygen.loc[oxygen[col] == 1,:]\n",
    "        else:\n",
    "            oxygen = oxygen.loc[oxygen[col] == val, :]\n",
    "\n",
    "co2 = df.copy()\n",
    "for col in co2.columns:\n",
    "\n",
    "    if (len(co2) == 1):\n",
    "        break\n",
    "    counts = co2.groupby(col).size()\n",
    "    val = counts.idxmax()\n",
    "    small_val = counts.idxmin()\n",
    "\n",
    "    unique_vals = len(pd.unique(co2.iloc[:,col])) \n",
    "\n",
    "    if unique_vals == 1:\n",
    "        co2 = co2.loc[co2[col] == val, :]\n",
    "    else:\n",
    "        # if counts are equal assign to 1 for oxygen\n",
    "        if (counts[0] == counts[1]):\n",
    "            co2 = co2.loc[co2[col] == 0,:]\n",
    "        else:\n",
    "            co2 = co2.loc[co2[col] == small_val, :]\n",
    "\n",
    "oxygen = [str(x) for x  in oxygen.iloc[0,]]\n",
    "oxygen = ''.join(oxygen)\n",
    "co2 = [str(x) for x  in co2.iloc[0,]]\n",
    "co2 = ''.join(co2)\n",
    "\n",
    "product = int(oxygen, 2) * int(co2,2)\n",
    "\n",
    "product"
   ]
  },
  {
   "cell_type": "code",
   "execution_count": 93,
   "metadata": {},
   "outputs": [
    {
     "data": {
      "text/plain": [
       "3414905"
      ]
     },
     "execution_count": 93,
     "metadata": {},
     "output_type": "execute_result"
    }
   ],
   "source": [
    "data = pd.read_csv('input_data.csv', header = None)\n",
    "\n",
    "# Get data into workable format. Create df of appropriate value positions\n",
    "data[0] = data[0].astype('str').str.zfill(12)\n",
    "df = []\n",
    "for item in data[0]:\n",
    "    digits = [int(x) for x in str(item)]\n",
    "    df.append(digits)\n",
    "\n",
    "df = pd.DataFrame(df)\n",
    "\n",
    "# Find most common occuring value\n",
    "maximum_val = []\n",
    "minimum_val = []\n",
    "\n",
    "oxygen = df.copy()\n",
    "for col in oxygen.columns:\n",
    "\n",
    "    if (len(oxygen) == 1):\n",
    "        break\n",
    "\n",
    "    counts = oxygen.groupby(col).size()\n",
    "    val = counts.idxmax()\n",
    "    small_val = counts.idxmin()\n",
    "\n",
    "    unique_vals = len(pd.unique(oxygen.iloc[:,col])) \n",
    "    # if there is only one unique vals\n",
    "    if unique_vals == 1:\n",
    "        oxygen = oxygen.loc[oxygen[col] == val, :]\n",
    "    else:\n",
    "        # if counts are equal assign to 1 for oxygen\n",
    "        if (counts[0] == counts[1]):\n",
    "            oxygen = oxygen.loc[oxygen[col] == 1,:]\n",
    "        else:\n",
    "            oxygen = oxygen.loc[oxygen[col] == val, :]\n",
    "\n",
    "co2 = df.copy()\n",
    "for col in co2.columns:\n",
    "\n",
    "    if (len(co2) == 1):\n",
    "        break\n",
    "    counts = co2.groupby(col).size()\n",
    "    val = counts.idxmax()\n",
    "    small_val = counts.idxmin()\n",
    "\n",
    "    unique_vals = len(pd.unique(co2.iloc[:,col])) \n",
    "\n",
    "    if unique_vals == 1:\n",
    "        co2 = co2.loc[co2[col] == val, :]\n",
    "    else:\n",
    "        # if counts are equal assign to 1 for oxygen\n",
    "        if (counts[0] == counts[1]):\n",
    "            co2 = co2.loc[co2[col] == 0,:]\n",
    "        else:\n",
    "            co2 = co2.loc[co2[col] == small_val, :]\n",
    "\n",
    "oxygen = [str(x) for x  in oxygen.iloc[0,]]\n",
    "oxygen = ''.join(oxygen)\n",
    "co2 = [str(x) for x  in co2.iloc[0,]]\n",
    "co2 = ''.join(co2)\n",
    "\n",
    "product = int(oxygen, 2) * int(co2,2)\n",
    "\n",
    "product"
   ]
  },
  {
   "cell_type": "code",
   "execution_count": 90,
   "metadata": {},
   "outputs": [
    {
     "data": {
      "text/plain": [
       "'10110'"
      ]
     },
     "execution_count": 90,
     "metadata": {},
     "output_type": "execute_result"
    }
   ],
   "source": [
    "\n",
    "co2"
   ]
  },
  {
   "cell_type": "markdown",
   "metadata": {},
   "source": [
    "# life support rating\n",
    "\n",
    "Life support rating = oxygen generator rating * Co2 scrubbing rating"
   ]
  },
  {
   "cell_type": "code",
   "execution_count": 64,
   "metadata": {},
   "outputs": [],
   "source": [
    "\n",
    "oxygen = [str(x) for x  in oxygen.iloc[0,]]\n",
    "oxygen = ''.join(oxygen)\n",
    "co2 = [str(x) for x  in co2.iloc[0,]]\n",
    "co2 = ''.join(co2)"
   ]
  },
  {
   "cell_type": "code",
   "execution_count": 67,
   "metadata": {},
   "outputs": [
    {
     "data": {
      "text/plain": [
       "'01010'"
      ]
     },
     "execution_count": 67,
     "metadata": {},
     "output_type": "execute_result"
    }
   ],
   "source": [
    "co2"
   ]
  },
  {
   "cell_type": "code",
   "execution_count": 14,
   "metadata": {},
   "outputs": [
    {
     "name": "stdout",
     "output_type": "stream",
     "text": [
      "01100100\n"
     ]
    }
   ],
   "source": [
    "x = 100\n",
    "\n",
    "binary = f'{x:08b}'\n",
    "print(binary)    # 01100100"
   ]
  },
  {
   "cell_type": "code",
   "execution_count": 16,
   "metadata": {},
   "outputs": [
    {
     "name": "stdout",
     "output_type": "stream",
     "text": [
      "b'10110'\n"
     ]
    }
   ],
   "source": [
    "print(b'10110')"
   ]
  },
  {
   "cell_type": "code",
   "execution_count": 17,
   "metadata": {},
   "outputs": [
    {
     "data": {
      "text/plain": [
       "'01001'"
      ]
     },
     "execution_count": 17,
     "metadata": {},
     "output_type": "execute_result"
    }
   ],
   "source": [
    "minimum_val"
   ]
  },
  {
   "cell_type": "code",
   "execution_count": 20,
   "metadata": {},
   "outputs": [
    {
     "data": {
      "text/plain": [
       "198"
      ]
     },
     "execution_count": 20,
     "metadata": {},
     "output_type": "execute_result"
    }
   ],
   "source": []
  },
  {
   "cell_type": "code",
   "execution_count": null,
   "metadata": {},
   "outputs": [],
   "source": []
  }
 ],
 "metadata": {
  "interpreter": {
   "hash": "919d5182d6e251f85cfea4f0d38d6cd16b39376b792c9ccd6a31cc8ff7d08ddb"
  },
  "kernelspec": {
   "display_name": "Python 3.9.7 64-bit ('sagemaker_env-KJbbt5wZ': pipenv)",
   "language": "python",
   "name": "python3"
  },
  "language_info": {
   "codemirror_mode": {
    "name": "ipython",
    "version": 3
   },
   "file_extension": ".py",
   "mimetype": "text/x-python",
   "name": "python",
   "nbconvert_exporter": "python",
   "pygments_lexer": "ipython3",
   "version": "3.9.7"
  },
  "orig_nbformat": 4
 },
 "nbformat": 4,
 "nbformat_minor": 2
}
