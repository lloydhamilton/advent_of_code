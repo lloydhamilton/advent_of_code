{
 "cells": [
  {
   "cell_type": "markdown",
   "metadata": {},
   "source": [
    "You ask the submarine to determine the best route out of the deep-sea cave, but it only replies:\n",
    "\n",
    "Syntax error in navigation subsystem on line: all of them\n",
    "All of them?! The damage is worse than you thought. You bring up a copy of the navigation subsystem (your puzzle input).\n",
    "\n",
    "The navigation subsystem syntax is made of several lines containing chunks. There are one or more chunks on each line, and chunks contain zero or more other chunks. Adjacent chunks are not separated by any delimiter; if one chunk stops, the next chunk (if any) can immediately start. Every chunk must open and close with one of four legal pairs of matching characters:\n",
    "\n",
    "* If a chunk opens with (, it must close with ).\n",
    "* If a chunk opens with [, it must close with ].\n",
    "* If a chunk opens with {, it must close with }.\n",
    "* If a chunk opens with <, it must close with >.\n",
    "\n",
    "So, `()` is a legal chunk that contains no other chunks, as is `[]`. More complex but valid chunks include `([])`, `{()()()}`, `<([{}])>`, `[<>({}){}[([])<>]]`, and even `(((((((((()))))))))`.\n",
    "\n",
    "Some lines are incomplete, but others are corrupted. Find and discard the corrupted lines first.\n",
    "\n",
    "A corrupted line is one where a chunk closes with the wrong character - that is, where the characters it opens and closes with do not form one of the four legal pairs listed above.\n",
    "\n",
    "Examples of corrupted chunks include `(]`, `{()()()>`, `(((()))}`, and `<([]){()}[{}])`. Such a chunk can appear anywhere within a line, and its presence causes the whole line to be considered corrupted.\n",
    "\n",
    "For example, consider the following navigation subsystem:\n",
    "\n",
    "```\n",
    "[({(<(())[]>[[{[]{<()<>>\n",
    "[(()[<>])]({[<{<<[]>>(\n",
    "{([(<{}[<>[]}>{[]{[(<()>\n",
    "(((({<>}<{<{<>}{[]{[]{}\n",
    "[[<[([]))<([[{}[[()]]]\n",
    "[{[{({}]{}}([{[{{{}}([]\n",
    "{<[[]]>}<{[{[{[]{()[[[]\n",
    "[<(<(<(<{}))><([]([]()\n",
    "<{([([[(<>()){}]>(<<{{\n",
    "<{([{{}}[<[[[<>{}]]]>[]]\n",
    "```\n",
    "\n",
    "Some of the lines aren't corrupted, just incomplete; you can ignore these lines for now. The remaining five lines are corrupted:\n",
    "\n",
    "```\n",
    "{([(<{}[<>[]}>{[]{[(<()> - Expected ], but found } instead.\n",
    "[[<[([]))<([[{}[[()]]] - Expected ], but found ) instead.\n",
    "[{[{({}]{}}([{[{{{}}([] - Expected ), but found ] instead.\n",
    "[<(<(<(<{}))><([]([]() - Expected >, but found ) instead.\n",
    "<{([([[(<>()){}]>(<<{{ - Expected ], but found > instead.\n",
    "```\n",
    "\n",
    "Stop at the first incorrect closing character on each corrupted line.\n",
    "\n",
    "Did you know that syntax checkers actually have contests to see who can get the high score for syntax errors in a file? It's true! To calculate the syntax error score for a line, take the first illegal character on the line and look it up in the following table:\n",
    "\n",
    "```\n",
    "): 3 points.\n",
    "]: 57 points.\n",
    "}: 1197 points.\n",
    ">: 25137 points.\n",
    "```\n",
    "\n",
    "In the above example, an illegal ) was found twice (2*3 = 6 points), an illegal ] was found once (57 points), an illegal } was found once (1197 points), and an illegal > was found once (25137 points). So, the total syntax error score for this file is 6+57+1197+25137 = 26397 points!\n",
    "\n",
    "Find the first illegal character in each corrupted line of the navigation subsystem. What is the total syntax error score for those errors?"
   ]
  },
  {
   "cell_type": "code",
   "execution_count": 186,
   "metadata": {},
   "outputs": [
    {
     "name": "stdout",
     "output_type": "stream",
     "text": [
      "Expected ], found }\n",
      "Expected ], found )\n",
      "Expected ), found ]\n",
      "Expected >, found )\n",
      "Expected ], found >\n",
      "{')': 6, ']': 57, '}': 1197, '>': 25137}\n"
     ]
    },
    {
     "data": {
      "text/plain": [
       "26397"
      ]
     },
     "execution_count": 186,
     "metadata": {},
     "output_type": "execute_result"
    }
   ],
   "source": [
    "import pandas as pd\n",
    "import re\n",
    "\n",
    "data = pd.read_csv('test_data.csv', header=None)\n",
    "\n",
    "def fix_braket_hell(data):\n",
    "    brackets = [')',']','}','>']\n",
    "    brackets = dict().fromkeys([i for i in brackets], 0)\n",
    "\n",
    "    for new_str in data.iloc[:,0].values:\n",
    "\n",
    "        while re.search(r'(\\[\\])|(\\{\\})|(\\<\\>)|(\\(\\))', new_str):\n",
    "            new_str = new_str.replace('{}','')\n",
    "            new_str = new_str.replace('()','')\n",
    "            new_str = new_str.replace('[]','')\n",
    "            new_str = new_str.replace('<>','')\n",
    "\n",
    "        s = re.search(r'[\\]\\}\\)\\>]', new_str)\n",
    "        if s is None:\n",
    "            continue\n",
    "\n",
    "        char = new_str[s.span()[0] - 1]\n",
    "        found = new_str[s.span()[0]]\n",
    "        brackets[found] += 1\n",
    "        if char == '(':\n",
    "            close = ')'\n",
    "        if char == '{':\n",
    "            close = '}'\n",
    "        if char == '[':\n",
    "            close = ']'\n",
    "        if char == '<':\n",
    "            close = '>'\n",
    "\n",
    "        print(f'Expected {close}, found {found}')\n",
    "\n",
    "    brackets[')'] *= 3\n",
    "    brackets[']'] *= 57\n",
    "    brackets['}'] *= 1197\n",
    "    brackets['>'] *= 25137\n",
    "\n",
    "    print(brackets)\n",
    "    return (sum(brackets.values()))\n",
    "\n",
    "fix_braket_hell(data)\n"
   ]
  },
  {
   "cell_type": "markdown",
   "metadata": {},
   "source": [
    "Part 2"
   ]
  },
  {
   "cell_type": "code",
   "execution_count": 3,
   "metadata": {},
   "outputs": [
    {
     "name": "stdout",
     "output_type": "stream",
     "text": [
      "[294, 5566, 288957, 995444, 1480781]\n"
     ]
    },
    {
     "data": {
      "text/plain": [
       "288957"
      ]
     },
     "execution_count": 3,
     "metadata": {},
     "output_type": "execute_result"
    }
   ],
   "source": [
    "import pandas as pd\n",
    "import re\n",
    "\n",
    "data = pd.read_csv('test_data.csv', header=None)\n",
    "\n",
    "def fix_braket_hell_pt2(data):\n",
    "\n",
    "    # Create dictionary key to count number of occurance\n",
    "    brackets = [')',']','}','>']\n",
    "    brackets = dict().fromkeys([i for i in brackets], 0)\n",
    "    incomplete = []\n",
    "    final_array = []\n",
    "\n",
    "    for new_str in data.iloc[:,0].values:\n",
    "\n",
    "        # Recursively remove matched brackets\n",
    "        while re.search(r'(\\[\\])|(\\{\\})|(\\<\\>)|(\\(\\))', new_str):\n",
    "            new_str = new_str.replace('{}','')\n",
    "            new_str = new_str.replace('()','')\n",
    "            new_str = new_str.replace('[]','')\n",
    "            new_str = new_str.replace('<>','')\n",
    "\n",
    "        # If no more match brackets, and we can find any closing backets, the val is an incomplete statement\n",
    "        s = re.search(r'[\\]\\}\\)\\>]', new_str)\n",
    "        if s is None:\n",
    "            # Reverse the order of the string\n",
    "            output = list(new_str[::-1])\n",
    "            inverse_brackets = ['(','[','{','<']\n",
    "            factors = [1,2,3,4]\n",
    "            # Recode brackets to numbers\n",
    "            for brac, fac in zip(inverse_brackets, factors):\n",
    "                output = [fac if out == brac else out for out in output]\n",
    "            # append to list\n",
    "            incomplete.append(output)\n",
    "\n",
    "        # Anything that has matching brackets are ignored\n",
    "        else:\n",
    "            continue\n",
    "\n",
    "    # For each incomplete do the math to get total points\n",
    "    for each_arry in incomplete:\n",
    "        val = 0\n",
    "        for idx in range(len(each_arry)):\n",
    "            val = (val * 5) + each_arry[idx]\n",
    "        final_array.append(val)\n",
    "\n",
    "    # Sort array and find middle number\n",
    "    final_array.sort()\n",
    "    slice_loc = int(len(final_array)/2)\n",
    "    print(final_array)\n",
    "    return (final_array[slice_loc])\n",
    "\n",
    "fix_braket_hell_pt2(data)"
   ]
  },
  {
   "cell_type": "code",
   "execution_count": 4,
   "metadata": {},
   "outputs": [
    {
     "name": "stdout",
     "output_type": "stream",
     "text": [
      "[933539, 1698546, 4803113, 9682057, 13590538, 133883496, 169902832, 379497847, 607967743, 718697706, 854427058, 862051667, 964757281, 966367813, 1589707369, 1645820358, 1892009343, 1919443048, 2390499171, 2421775931, 2895817331, 2922602467, 3041582218, 3235371166, 3288458966, 3290510916, 3319133412, 3385745491, 3647536862, 4331171672, 4524183066, 4762854737, 4797866586, 4868591458, 5291746683, 5296074049, 5311511572, 5550105793, 5999105541, 10248774681, 10569405797, 16521207807, 22553809074, 23628436716, 23919764748, 24097260598, 28871012208]\n"
     ]
    },
    {
     "data": {
      "text/plain": [
       "3235371166"
      ]
     },
     "execution_count": 4,
     "metadata": {},
     "output_type": "execute_result"
    }
   ],
   "source": [
    "import pandas as pd\n",
    "data = pd.read_csv('input_data.csv', header=None)\n",
    "fix_braket_hell_pt2(data)"
   ]
  },
  {
   "cell_type": "code",
   "execution_count": 237,
   "metadata": {},
   "outputs": [
    {
     "data": {
      "text/plain": [
       "3.0"
      ]
     },
     "execution_count": 237,
     "metadata": {},
     "output_type": "execute_result"
    }
   ],
   "source": [
    "\n",
    "# output = [2 if out == '[' else out for out in output]\n",
    "# output = [1 if out == '(' else out for out in output]\n",
    "# output = [3 if out == '{' else out for out in output]\n",
    "# output = [1 if out == '<' else out for out in output]\n",
    "# output[output == '['] = 2\n",
    "# output[output == '('] = 1\n",
    "# output[output == '{'] = 3\n",
    "# output[output == '<'] = 1"
   ]
  },
  {
   "cell_type": "code",
   "execution_count": 204,
   "metadata": {},
   "outputs": [
    {
     "data": {
      "text/plain": [
       "'['"
      ]
     },
     "execution_count": 204,
     "metadata": {},
     "output_type": "execute_result"
    }
   ],
   "source": [
    "output[output == '{']"
   ]
  },
  {
   "cell_type": "code",
   "execution_count": 149,
   "metadata": {},
   "outputs": [
    {
     "data": {
      "text/plain": [
       "True"
      ]
     },
     "execution_count": 149,
     "metadata": {},
     "output_type": "execute_result"
    }
   ],
   "source": [
    "s = re.search(r'[\\]\\}\\)\\>]', new_str)\n",
    "s is None"
   ]
  },
  {
   "cell_type": "code",
   "execution_count": null,
   "metadata": {},
   "outputs": [],
   "source": []
  }
 ],
 "metadata": {
  "interpreter": {
   "hash": "53b9ae5b2e13984c60f33ad01525842f2ba2adec37730199c11a79beaad5b972"
  },
  "kernelspec": {
   "display_name": "Python 3.9.7 64-bit ('advent-of-code-TnhYLct3-py3.9': poetry)",
   "language": "python",
   "name": "python3"
  },
  "language_info": {
   "codemirror_mode": {
    "name": "ipython",
    "version": 3
   },
   "file_extension": ".py",
   "mimetype": "text/x-python",
   "name": "python",
   "nbconvert_exporter": "python",
   "pygments_lexer": "ipython3",
   "version": "3.9.7"
  },
  "orig_nbformat": 4
 },
 "nbformat": 4,
 "nbformat_minor": 2
}
