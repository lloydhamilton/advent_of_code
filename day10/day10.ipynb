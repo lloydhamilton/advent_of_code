{
 "cells": [
  {
   "cell_type": "markdown",
   "metadata": {},
   "source": [
    "You ask the submarine to determine the best route out of the deep-sea cave, but it only replies:\n",
    "\n",
    "Syntax error in navigation subsystem on line: all of them\n",
    "All of them?! The damage is worse than you thought. You bring up a copy of the navigation subsystem (your puzzle input).\n",
    "\n",
    "The navigation subsystem syntax is made of several lines containing chunks. There are one or more chunks on each line, and chunks contain zero or more other chunks. Adjacent chunks are not separated by any delimiter; if one chunk stops, the next chunk (if any) can immediately start. Every chunk must open and close with one of four legal pairs of matching characters:\n",
    "\n",
    "* If a chunk opens with (, it must close with ).\n",
    "* If a chunk opens with [, it must close with ].\n",
    "* If a chunk opens with {, it must close with }.\n",
    "* If a chunk opens with <, it must close with >.\n",
    "\n",
    "So, `()` is a legal chunk that contains no other chunks, as is `[]`. More complex but valid chunks include `([])`, `{()()()}`, `<([{}])>`, `[<>({}){}[([])<>]]`, and even `(((((((((()))))))))`.\n",
    "\n",
    "Some lines are incomplete, but others are corrupted. Find and discard the corrupted lines first.\n",
    "\n",
    "A corrupted line is one where a chunk closes with the wrong character - that is, where the characters it opens and closes with do not form one of the four legal pairs listed above.\n",
    "\n",
    "Examples of corrupted chunks include `(]`, `{()()()>`, `(((()))}`, and `<([]){()}[{}])`. Such a chunk can appear anywhere within a line, and its presence causes the whole line to be considered corrupted.\n",
    "\n",
    "For example, consider the following navigation subsystem:\n",
    "\n",
    "```\n",
    "[({(<(())[]>[[{[]{<()<>>\n",
    "[(()[<>])]({[<{<<[]>>(\n",
    "{([(<{}[<>[]}>{[]{[(<()>\n",
    "(((({<>}<{<{<>}{[]{[]{}\n",
    "[[<[([]))<([[{}[[()]]]\n",
    "[{[{({}]{}}([{[{{{}}([]\n",
    "{<[[]]>}<{[{[{[]{()[[[]\n",
    "[<(<(<(<{}))><([]([]()\n",
    "<{([([[(<>()){}]>(<<{{\n",
    "<{([{{}}[<[[[<>{}]]]>[]]\n",
    "```\n",
    "\n",
    "Some of the lines aren't corrupted, just incomplete; you can ignore these lines for now. The remaining five lines are corrupted:\n",
    "\n",
    "```\n",
    "{([(<{}[<>[]}>{[]{[(<()> - Expected ], but found } instead.\n",
    "[[<[([]))<([[{}[[()]]] - Expected ], but found ) instead.\n",
    "[{[{({}]{}}([{[{{{}}([] - Expected ), but found ] instead.\n",
    "[<(<(<(<{}))><([]([]() - Expected >, but found ) instead.\n",
    "<{([([[(<>()){}]>(<<{{ - Expected ], but found > instead.\n",
    "```\n",
    "\n",
    "Stop at the first incorrect closing character on each corrupted line.\n",
    "\n",
    "Did you know that syntax checkers actually have contests to see who can get the high score for syntax errors in a file? It's true! To calculate the syntax error score for a line, take the first illegal character on the line and look it up in the following table:\n",
    "\n",
    "```\n",
    "): 3 points.\n",
    "]: 57 points.\n",
    "}: 1197 points.\n",
    ">: 25137 points.\n",
    "```\n",
    "\n",
    "In the above example, an illegal ) was found twice (2*3 = 6 points), an illegal ] was found once (57 points), an illegal } was found once (1197 points), and an illegal > was found once (25137 points). So, the total syntax error score for this file is 6+57+1197+25137 = 26397 points!\n",
    "\n",
    "Find the first illegal character in each corrupted line of the navigation subsystem. What is the total syntax error score for those errors?"
   ]
  },
  {
   "cell_type": "code",
   "execution_count": 156,
   "metadata": {},
   "outputs": [
    {
     "name": "stdout",
     "output_type": "stream",
     "text": [
      "Expected ], found }\n",
      "Expected ], found )\n",
      "Expected ), found ]\n",
      "Expected >, found )\n",
      "Expected ], found >\n"
     ]
    }
   ],
   "source": [
    "import pandas as pd\n",
    "import re\n",
    "import sys\n",
    "\n",
    "data = pd.read_csv('test_data.csv', header=None)\n",
    "for new_str in data.iloc[:,0].values:\n",
    "\n",
    "    while re.search(r'(\\[\\])|(\\{\\})|(\\<\\>)|(\\(\\))', new_str):\n",
    "        new_str = new_str.replace('{}','')\n",
    "        new_str = new_str.replace('()','')\n",
    "        new_str = new_str.replace('[]','')\n",
    "        new_str = new_str.replace('<>','')\n",
    "    s = re.search(r'[\\]\\}\\)\\>]', new_str)\n",
    "    if s is None:\n",
    "        continue\n",
    "\n",
    "    char = new_str[s.span()[0] - 1]\n",
    "    found = new_str[s.span()[0]]\n",
    "    if char == '(':\n",
    "        close = ')'\n",
    "    if char == '{':\n",
    "        close = '}'\n",
    "    if char == '[':\n",
    "        close = ']'\n",
    "    if char == '<':\n",
    "        close = '>'\n",
    "        \n",
    "    print(f'Expected {close}, found {found}')"
   ]
  },
  {
   "cell_type": "code",
   "execution_count": 119,
   "metadata": {},
   "outputs": [
    {
     "name": "stdout",
     "output_type": "stream",
     "text": [
      "[[<[([]))<([[{}[[()]]]\n",
      "Expected ), found )\n"
     ]
    }
   ],
   "source": [
    "#idx = 2, 4, 5, 7, 8\n",
    "\n",
    "new_str = data.iloc[4].values[0]\n",
    "print(new_str)\n",
    "new_str = new_str.replace('{}','')\n",
    "new_str = new_str.replace('()','')\n",
    "new_str = new_str.replace('[]','')\n",
    "new_str = new_str.replace('<>','')\n",
    "s = re.search(r'[\\]\\}\\)\\>]', new_str)\n",
    "char = new_str[s.span()[0] - 1]\n",
    "found = new_str[s.span()[0]]\n",
    "if char == '(':\n",
    "    close = ')'\n",
    "if char == '{':\n",
    "    close = '}'\n",
    "if char == '[':\n",
    "    close = ']'\n",
    "if char == '<':\n",
    "    close = '>'\n",
    "    \n",
    "print(f'Expected {close}, found {found}')"
   ]
  },
  {
   "cell_type": "code",
   "execution_count": 151,
   "metadata": {},
   "outputs": [
    {
     "name": "stdout",
     "output_type": "stream",
     "text": [
      "incomplete string\n"
     ]
    },
    {
     "ename": "SystemExit",
     "evalue": "0",
     "output_type": "error",
     "traceback": [
      "An exception has occurred, use %tb to see the full traceback.\n",
      "\u001b[0;31mSystemExit\u001b[0m\u001b[0;31m:\u001b[0m 0\n"
     ]
    },
    {
     "name": "stderr",
     "output_type": "stream",
     "text": [
      "/Users/lloydhamilton/Library/Caches/pypoetry/virtualenvs/advent-of-code-TnhYLct3-py3.9/lib/python3.9/site-packages/IPython/core/interactiveshell.py:3465: UserWarning: To exit: use 'exit', 'quit', or Ctrl-D.\n",
      "  warn(\"To exit: use 'exit', 'quit', or Ctrl-D.\", stacklevel=1)\n"
     ]
    }
   ],
   "source": [
    "#idx = 2, 4, 5, 7, 8\n",
    "\n"
   ]
  },
  {
   "cell_type": "code",
   "execution_count": 150,
   "metadata": {},
   "outputs": [
    {
     "name": "stdout",
     "output_type": "stream",
     "text": [
      "[({([[{{\n",
      "incomplete string\n"
     ]
    }
   ],
   "source": [
    "new_str = data.iloc[0].values[0]\n",
    "while re.search(r'(\\[\\])|(\\{\\})|(\\<\\>)|(\\<\\>)', new_str):\n",
    "    new_str = new_str.replace('{}','')\n",
    "    new_str = new_str.replace('()','')\n",
    "    new_str = new_str.replace('[]','')\n",
    "    new_str = new_str.replace('<>','')\n",
    "s = re.search(r'[\\]\\}\\)\\>]', new_str)\n",
    "print(new_str)\n",
    "if s is None:\n",
    "    print(\"incomplete string\")"
   ]
  },
  {
   "cell_type": "code",
   "execution_count": 149,
   "metadata": {},
   "outputs": [
    {
     "data": {
      "text/plain": [
       "True"
      ]
     },
     "execution_count": 149,
     "metadata": {},
     "output_type": "execute_result"
    }
   ],
   "source": [
    "s = re.search(r'[\\]\\}\\)\\>]', new_str)\n",
    "s is None"
   ]
  },
  {
   "cell_type": "code",
   "execution_count": null,
   "metadata": {},
   "outputs": [],
   "source": []
  }
 ],
 "metadata": {
  "interpreter": {
   "hash": "53b9ae5b2e13984c60f33ad01525842f2ba2adec37730199c11a79beaad5b972"
  },
  "kernelspec": {
   "display_name": "Python 3.9.7 64-bit ('advent-of-code-TnhYLct3-py3.9': poetry)",
   "language": "python",
   "name": "python3"
  },
  "language_info": {
   "codemirror_mode": {
    "name": "ipython",
    "version": 3
   },
   "file_extension": ".py",
   "mimetype": "text/x-python",
   "name": "python",
   "nbconvert_exporter": "python",
   "pygments_lexer": "ipython3",
   "version": "3.9.7"
  },
  "orig_nbformat": 4
 },
 "nbformat": 4,
 "nbformat_minor": 2
}
